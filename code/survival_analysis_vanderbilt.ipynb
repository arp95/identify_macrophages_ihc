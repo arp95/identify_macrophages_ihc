{
 "cells": [
  {
   "cell_type": "code",
   "execution_count": 1,
   "id": "80fd89cd",
   "metadata": {},
   "outputs": [
    {
     "name": "stdout",
     "output_type": "stream",
     "text": [
      "Header files loaded!\n"
     ]
    }
   ],
   "source": [
    "# header files\n",
    "%matplotlib inline\n",
    "import glob\n",
    "import cv2\n",
    "import csv\n",
    "import numpy as np\n",
    "import pandas as pd\n",
    "from sksurv.nonparametric import kaplan_meier_estimator\n",
    "from sksurv.linear_model import CoxnetSurvivalAnalysis\n",
    "from sksurv.linear_model import CoxPHSurvivalAnalysis\n",
    "from sksurv.ensemble import RandomSurvivalForest\n",
    "from sksurv.svm import HingeLossSurvivalSVM\n",
    "from sksurv.metrics import (\n",
    "    concordance_index_censored,\n",
    "    concordance_index_ipcw,\n",
    "    cumulative_dynamic_auc,\n",
    "    integrated_brier_score,\n",
    ")\n",
    "from sklearn.preprocessing import StandardScaler, MinMaxScaler, RobustScaler\n",
    "from sklearn.pipeline import make_pipeline\n",
    "from sklearn.model_selection import KFold\n",
    "from sklearn.model_selection import train_test_split\n",
    "import matplotlib.pyplot as plt\n",
    "from sklearn.feature_selection import SelectKBest\n",
    "from sklearn.feature_selection import chi2, f_regression, f_classif\n",
    "import matplotlib.pyplot as plt\n",
    "from datetime import datetime\n",
    "date_format = \"%m/%d/%y\"\n",
    "date_format_1 = \"%m/%d/%Y\"\n",
    "plt.rcParams['figure.figsize'] = [4, 4]\n",
    "print(\"Header files loaded!\")"
   ]
  },
  {
   "cell_type": "code",
   "execution_count": 2,
   "id": "16c4d1be",
   "metadata": {},
   "outputs": [
    {
     "name": "stdout",
     "output_type": "stream",
     "text": [
      "102\n"
     ]
    }
   ],
   "source": [
    "# load cervix cancer files\n",
    "filenames = (glob.glob(\"../results/vanderbilt/predicted_features/*\"))\n",
    "print(len(filenames))"
   ]
  },
  {
   "cell_type": "code",
   "execution_count": 3,
   "id": "c329c36c",
   "metadata": {},
   "outputs": [
    {
     "name": "stdout",
     "output_type": "stream",
     "text": [
      "[[0.0606729284998744], [0.1138422736652199], [0.1239245120249116], [0.1061073482705876], [0.06001054506628327], [0.190415573974464], [0.1431565519729632], [0.0652088635295261], [0.100165219451615], [0.0703204857048407], [0.0680334599459368], [0.0494236262920304], [0.1498280601899735], [0.1185624158135363], [0.1182900946189712], [0.1413033840697502], [0.0702000137782166], [0.0532305305742529], [0.1895549653613], [0.1068607453376163], [0.0692533568331758], [0.0399093810842701], [0.0695154373559627], [0.1952404266144438], [0.0344048472991731], [0.0212479494042479], [0.02224628984573954], [0.0855406077015651], [0.2263544041899789], [0.2276102004506198], [0.1251670657001812], [0.1309282917659454], [0.1035199803808187], [0.1226783223207302], [0.0642181936303003], [0.0644033458183203], [0.0393761673149047], [0.120574882661454], [0.1572327096109015], [0.128563945577692], [0.0231809850609083], [0.1138755613921677], [0.05306265460560019], [0.0931967265781526], [0.1101972205192613], [0.1223255642213314], [0.0966215914556313], [0.0739571667774129], [0.1839217710135834], [0.1631532221057181], [0.065667224548091], [0.254216733930119], [0.04775783779751019], [0.063982922459517], [0.1294754945986876], [0.10848666158998], [0.1316260187267167], [0.1964373203289656], [0.01821974679381782], [0.0928685729603064], [0.0614111531733456], [0.0721029556510914], [0.1964290361045588], [0.1874456836539011], [0.0692238457632239], [0.05867245319716555], [0.0555605346470269], [0.061978280249615], [0.0515382701417528], [0.1057239391410188], [0.1096184384553674], [0.226333781477943], [0.0916229253992834], [0.0969279181425485], [0.03570897574201998], [0.065251353062775], [0.0757138430625064], [0.0464721207615983], [0.1329325040641069], [0.1963513202205287], [0.05245158727037768], [0.1059219757199869], [0.0996927646448376], [0.1015361714200916], [0.1181428581391618], [0.1541496329011312], [0.12530536181156], [0.1864805483131619], [0.1551035884557767], [0.176078410483781], [0.0846538806876286], [0.091422424654602], [0.1703204857048407], [0.2269444556397958], [0.0933533032619765], [0.173912189823479], [0.1703204857048407], [0.1355503210280214], [0.1703204857048407], [0.0859424288076007], [0.1755814771665579], [0.125292018753245]]\n"
     ]
    }
   ],
   "source": [
    "features = []\n",
    "for file in filenames:\n",
    "    filename = file.split(\"/\")[-1]\n",
    "    flag = -1\n",
    "    file_features = []\n",
    "    with open(\"../results/vanderbilt/predicted_features/\"+filename, newline='') as csvfile:\n",
    "        spamreader = csv.reader(csvfile)\n",
    "        for row in spamreader:\n",
    "            if flag == -1:\n",
    "                array = list(row)\n",
    "                file_features.append(float(array[0][1:len(array[0])-1]))\n",
    "        features.append(file_features)\n",
    "print(features)"
   ]
  },
  {
   "cell_type": "code",
   "execution_count": 4,
   "id": "ad7d6e9b",
   "metadata": {},
   "outputs": [
    {
     "name": "stdout",
     "output_type": "stream",
     "text": [
      "['ï»¿Code #', 'Age', 'Sex', 'Race', 'Path Histo #', 'HPV RNA ISH', 'p16 IHC Score', 'p16 Binary 75', 'Treatment', 'Date of Diagnosis ', 'Treatment Start Date', 'Last follow up', 'F/U Length', 'F/U Length Months', 'Last Disease Free FU Date', 'Patient Status', 'Disease status ', 'Local Failure', 'LCRF Date', 'regional fail', 'date reg rec', 'Dist met', 'DM Date', 'Chemo', 'T-Stage', 'N-Stage', 'Overall Stage', 'Margins', 'Smoking?', 'Drinking?', 'ACE-27 Comorbidity Score']\n",
      "274\n",
      "274\n",
      "274\n"
     ]
    }
   ],
   "source": [
    "# create output survival information for training model and get til features\n",
    "if True:\n",
    "    censor_clinical = []\n",
    "    days_clinical = []\n",
    "    filenames_clinical = []\n",
    "    flag = -1\n",
    "    c = 0\n",
    "    with open(\"../data/vanderbilt.csv\", newline='', encoding = \"ISO-8859-1\") as csvfile:\n",
    "        spamreader = csv.reader(csvfile)\n",
    "        for row in spamreader:\n",
    "            if flag == -1:\n",
    "                flag = 1\n",
    "                print(row)\n",
    "            else:\n",
    "                array = row\n",
    "                if len(array[12]) > 0 and array[12] != \"#VALUE!\":\n",
    "                    filenames_clinical.append(array[0])\n",
    "                    #days_clinical.append(float(array[12]))\n",
    "                    \n",
    "                    start_date = array[9]\n",
    "                    \n",
    "                    if array[14] == \"\":\n",
    "                        end_date = array[11]\n",
    "                    else:\n",
    "                        end_date = array[14]\n",
    "                       \n",
    "                    d = date_format\n",
    "                    if len(start_date.split(\"/\")[-1]) == 4:\n",
    "                        d = date_format_1\n",
    "                        \n",
    "                    d_1 = date_format\n",
    "                    if len(end_date.split(\"/\")[-1]) == 4:\n",
    "                        d_1 = date_format_1\n",
    "                    first_date = datetime.strptime(str(start_date), d)\n",
    "                    last_date = datetime.strptime(str(end_date), d_1)\n",
    "                    delta = last_date - first_date\n",
    "                    days_clinical.append(float(delta.days))\n",
    "                    \n",
    "                    if array[16] == \"\":\n",
    "                        array[16] = \"1\"\n",
    "                    if int(array[16]) == 1:\n",
    "                        censor_clinical.append(False)\n",
    "                    else:\n",
    "                        censor_clinical.append(True)\n",
    "    print(len(filenames_clinical))\n",
    "    print(len(days_clinical))\n",
    "    print(len(censor_clinical))"
   ]
  },
  {
   "cell_type": "code",
   "execution_count": 6,
   "id": "12f1c018",
   "metadata": {},
   "outputs": [
    {
     "name": "stdout",
     "output_type": "stream",
     "text": [
      "102\n",
      "102\n",
      "102\n",
      "102\n"
     ]
    }
   ],
   "source": [
    "final_filenames = []\n",
    "final_features = []\n",
    "final_days = []\n",
    "final_censor = []\n",
    "\n",
    "for index in range(0, len(filenames)):\n",
    "    filename = filenames[index].split(\"/\")[-1][:-4]\n",
    "    \n",
    "    count = 0\n",
    "    for file in filenames_clinical:\n",
    "        if filename == file:\n",
    "            final_filenames.append(filename)\n",
    "            final_features.append(features[index])\n",
    "            final_days.append(days_clinical[count])\n",
    "            final_censor.append(censor_clinical[count])\n",
    "        count += 1\n",
    "print(len(final_filenames))\n",
    "print(len(final_features))\n",
    "print(len(final_days))\n",
    "print(len(final_censor))"
   ]
  },
  {
   "cell_type": "code",
   "execution_count": 7,
   "id": "b3100e38",
   "metadata": {},
   "outputs": [],
   "source": [
    "final_features = np.array(final_features)\n",
    "final_censor = np.array(final_censor)\n",
    "final_days = np.array(final_days)"
   ]
  },
  {
   "cell_type": "code",
   "execution_count": 8,
   "id": "68db4dbc",
   "metadata": {},
   "outputs": [
    {
     "name": "stdout",
     "output_type": "stream",
     "text": [
      "2544.0; 503.0; 1405.0; 2926.0; 979.0; 2251.0; 156.0; 160.0; 2007.0; 3325.0; 1434.0; 2007.0; 3060.0; 1277.0; 1518.0; 3968.0; 394.0; 610.0; 623.0; 2357.0; 432.0; 1610.0; 96.0; 225.0; 1583.0; 72.0; 2160.0; 699.0; 28.0; 2296.0; 1057.0; 421.0; 756.0; 763.0; 517.0; 1041.0; 1782.0; 836.0; 996.0; 440.0; 673.0; 427.0; 804.0; 803.0; 1671.0; 917.0; 500.0; 775.0; 2274.0; 73.0; 410.0; 1463.0; 1176.0; 1547.0; 2268.0; 1392.0; 2620.0; 393.0; 699.0; 65.0; 1164.0; 70.0; 1840.0; 906.0; 2087.0; 2714.0; 496.0; 1041.0; 377.0; 464.0; 267.0; 666.0; 3545.0; 4280.0; 3120.0; 2647.0; 1722.0; 1581.0; 1368.0; 1563.0; 1762.0; 3039.0; 3180.0; 2624.0; 316.0; 422.0; 2100.0; 246.0; 2883.0; 1774.0; 2088.0; 795.0; 575.0; 2945.0; 2641.0; 1449.0; 1006.0; 208.0; 473.0; 117.0; 385.0; 844.0\n"
     ]
    }
   ],
   "source": [
    "print(*(final_days), sep=\"; \")"
   ]
  },
  {
   "cell_type": "code",
   "execution_count": 9,
   "id": "06f91142",
   "metadata": {},
   "outputs": [
    {
     "name": "stdout",
     "output_type": "stream",
     "text": [
      "0; 0; 0; 0; 0; 1; 1; 0; 0; 0; 0; 0; 0; 0; 0; 0; 0; 0; 0; 0; 0; 0; 1; 1; 0; 1; 0; 0; 0; 0; 0; 0; 0; 0; 0; 0; 0; 0; 0; 1; 0; 0; 0; 0; 0; 0; 1; 0; 0; 0; 1; 0; 0; 0; 0; 0; 0; 0; 0; 0; 0; 0; 0; 0; 0; 0; 0; 0; 1; 0; 0; 0; 0; 0; 0; 0; 0; 0; 0; 0; 0; 0; 0; 0; 0; 1; 0; 1; 0; 0; 0; 1; 1; 0; 0; 0; 1; 0; 1; 0; 0; 0\n"
     ]
    }
   ],
   "source": [
    "a = []\n",
    "for index in range(0, len(final_censor)):\n",
    "    if final_censor[index] == False:\n",
    "        a.append(0)\n",
    "    else:\n",
    "        a.append(1)\n",
    "print(*a, sep=\"; \")"
   ]
  },
  {
   "cell_type": "code",
   "execution_count": 11,
   "id": "87e65689",
   "metadata": {},
   "outputs": [
    {
     "name": "stdout",
     "output_type": "stream",
     "text": [
      "0; 0; 0; 0; 0; 1; 1; 0; 0; 0; 0; 0; 1; 0; 0; 1; 0; 0; 1; 0; 0; 0; 0; 1; 0; 0; 0; 0; 1; 1; 0; 1; 0; 0; 0; 0; 0; 0; 1; 0; 0; 0; 0; 0; 0; 0; 0; 0; 1; 1; 0; 1; 0; 0; 0; 0; 1; 1; 0; 0; 0; 0; 1; 1; 0; 0; 0; 0; 0; 0; 0; 1; 0; 0; 0; 0; 0; 0; 1; 1; 0; 0; 0; 0; 0; 1; 0; 1; 1; 1; 0; 0; 1; 1; 0; 1; 1; 1; 1; 0; 1; 0\n"
     ]
    }
   ],
   "source": [
    "group = []\n",
    "for index in range(0, len(final_features)):\n",
    "    if final_features[index, 0] >= 0.13:\n",
    "        group.append(1)\n",
    "    else:\n",
    "        group.append(0)\n",
    "print(*group, sep=\"; \")"
   ]
  },
  {
   "cell_type": "code",
   "execution_count": null,
   "id": "3fbdd819",
   "metadata": {},
   "outputs": [],
   "source": [
    "print(np.median(final_features))"
   ]
  },
  {
   "cell_type": "code",
   "execution_count": null,
   "id": "35c55222",
   "metadata": {},
   "outputs": [],
   "source": []
  }
 ],
 "metadata": {
  "kernelspec": {
   "display_name": "Python 3",
   "language": "python",
   "name": "python3"
  },
  "language_info": {
   "codemirror_mode": {
    "name": "ipython",
    "version": 3
   },
   "file_extension": ".py",
   "mimetype": "text/x-python",
   "name": "python",
   "nbconvert_exporter": "python",
   "pygments_lexer": "ipython3",
   "version": "3.8.8"
  }
 },
 "nbformat": 4,
 "nbformat_minor": 5
}
