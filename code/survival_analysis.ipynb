{
 "cells": [
  {
   "cell_type": "code",
   "execution_count": 1,
   "id": "80fd89cd",
   "metadata": {},
   "outputs": [
    {
     "name": "stdout",
     "output_type": "stream",
     "text": [
      "Header files loaded!\n"
     ]
    }
   ],
   "source": [
    "# header files\n",
    "%matplotlib inline\n",
    "import glob\n",
    "import cv2\n",
    "import csv\n",
    "import numpy as np\n",
    "import pandas as pd\n",
    "from sksurv.nonparametric import kaplan_meier_estimator\n",
    "from sksurv.linear_model import CoxnetSurvivalAnalysis\n",
    "from sksurv.linear_model import CoxPHSurvivalAnalysis\n",
    "from sksurv.ensemble import RandomSurvivalForest\n",
    "from sksurv.svm import HingeLossSurvivalSVM\n",
    "from sksurv.metrics import (\n",
    "    concordance_index_censored,\n",
    "    concordance_index_ipcw,\n",
    "    cumulative_dynamic_auc,\n",
    "    integrated_brier_score,\n",
    ")\n",
    "from sklearn.preprocessing import StandardScaler, MinMaxScaler, RobustScaler\n",
    "from sklearn.pipeline import make_pipeline\n",
    "from sklearn.model_selection import KFold\n",
    "from sklearn.model_selection import train_test_split\n",
    "import matplotlib.pyplot as plt\n",
    "from sklearn.feature_selection import SelectKBest\n",
    "from sklearn.feature_selection import chi2, f_regression, f_classif\n",
    "import matplotlib.pyplot as plt\n",
    "from datetime import datetime\n",
    "date_format = \"%m/%d/%y\"\n",
    "date_format_1 = \"%m/%d/%Y\"\n",
    "plt.rcParams['figure.figsize'] = [4, 4]\n",
    "print(\"Header files loaded!\")"
   ]
  },
  {
   "cell_type": "code",
   "execution_count": 2,
   "id": "16c4d1be",
   "metadata": {},
   "outputs": [
    {
     "name": "stdout",
     "output_type": "stream",
     "text": [
      "102\n"
     ]
    }
   ],
   "source": [
    "# load cervix cancer files\n",
    "filenames = (glob.glob(\"results/vanderbilt/predicted_features_m/*\"))\n",
    "print(len(filenames))"
   ]
  },
  {
   "cell_type": "code",
   "execution_count": 3,
   "id": "c329c36c",
   "metadata": {},
   "outputs": [
    {
     "name": "stdout",
     "output_type": "stream",
     "text": [
      "[[0.0606729284998744], [0.1138422736652199], [0.1239245120249116], [0.1061073482705876], [0.06001054506628327], [0.190415573974464], [0.1431565519729632], [0.0652088635295261], [0.100165219451615], [0.0703204857048407], [0.0680334599459368], [0.0494236262920304], [0.1498280601899735], [0.1185624158135363], [0.1182900946189712], [0.1413033840697502], [0.0702000137782166], [0.0532305305742529], [0.1895549653613], [0.1068607453376163], [0.0692533568331758], [0.0399093810842701], [0.0695154373559627], [0.1952404266144438], [0.0344048472991731], [0.0212479494042479], [0.02224628984573954], [0.0855406077015651], [0.2263544041899789], [0.2276102004506198], [0.1251670657001812], [0.1309282917659454], [0.1035199803808187], [0.1226783223207302], [0.0642181936303003], [0.0644033458183203], [0.0393761673149047], [0.120574882661454], [0.1572327096109015], [0.128563945577692], [0.0231809850609083], [0.1138755613921677], [0.05306265460560019], [0.0931967265781526], [0.1101972205192613], [0.1223255642213314], [0.0966215914556313], [0.0739571667774129], [0.1839217710135834], [0.1631532221057181], [0.065667224548091], [0.254216733930119], [0.04775783779751019], [0.063982922459517], [0.1294754945986876], [0.10848666158998], [0.1316260187267167], [0.1964373203289656], [0.01821974679381782], [0.0928685729603064], [0.0614111531733456], [0.0721029556510914], [0.1964290361045588], [0.1874456836539011], [0.0692238457632239], [0.05867245319716555], [0.0555605346470269], [0.061978280249615], [0.0515382701417528], [0.1057239391410188], [0.1096184384553674], [0.226333781477943], [0.0916229253992834], [0.0969279181425485], [0.03570897574201998], [0.065251353062775], [0.0757138430625064], [0.0464721207615983], [0.1329325040641069], [0.1963513202205287], [0.05245158727037768], [0.1059219757199869], [0.0996927646448376], [0.1015361714200916], [0.1181428581391618], [0.1541496329011312], [0.12530536181156], [0.1864805483131619], [0.1551035884557767], [0.176078410483781], [0.0846538806876286], [0.091422424654602], [0.1703204857048407], [0.2269444556397958], [0.0933533032619765], [0.173912189823479], [0.1703204857048407], [0.1355503210280214], [0.1703204857048407], [0.0859424288076007], [0.1755814771665579], [0.125292018753245]]\n"
     ]
    }
   ],
   "source": [
    "features = []\n",
    "for file in filenames:\n",
    "    filename = file.split(\"/\")[-1]\n",
    "    flag = -1\n",
    "    file_features = []\n",
    "    with open(\"results/vanderbilt/predicted_features_m/\"+filename, newline='') as csvfile:\n",
    "        spamreader = csv.reader(csvfile)\n",
    "        for row in spamreader:\n",
    "            if flag == -1:\n",
    "                array = list(row)\n",
    "                #file_features.append(float(array[0][1:len(array[0])-1]))\n",
    "                file_features.append(float(array[0][1:len(array[0])-1]))\n",
    "        features.append(file_features)\n",
    "print(features)"
   ]
  },
  {
   "cell_type": "code",
   "execution_count": null,
   "id": "24440e8c",
   "metadata": {},
   "outputs": [],
   "source": [
    "features_1 = []\n",
    "for file in filenames:\n",
    "    filename = file.split(\"/\")[-1]\n",
    "    flag = -1\n",
    "    file_features = []\n",
    "    with open(\"results/vanderbilt/new_features_m/\"+filename, newline='') as csvfile:\n",
    "        spamreader = csv.reader(csvfile)\n",
    "        for row in spamreader:\n",
    "            if flag == -1:\n",
    "                array = list(row)\n",
    "                #file_features.append(float(array[0][1:len(array[0])-1]))\n",
    "                file_features.append(float(array[0][1:len(array[0])-1])+0.05)\n",
    "        features_1.append(file_features)\n",
    "print(features_1)"
   ]
  },
  {
   "cell_type": "code",
   "execution_count": 4,
   "id": "ad7d6e9b",
   "metadata": {},
   "outputs": [
    {
     "name": "stdout",
     "output_type": "stream",
     "text": [
      "['ï»¿Code #', 'Age', 'Sex', 'Race', 'Path Histo #', 'HPV RNA ISH', 'p16 IHC Score', 'p16 Binary 75', 'Treatment', 'Date of Diagnosis ', 'Treatment Start Date', 'Last follow up', 'F/U Length', 'F/U Length Months', 'Last Disease Free FU Date', 'Patient Status', 'Disease status ', 'Local Failure', 'LCRF Date', 'regional fail', 'date reg rec', 'Dist met', 'DM Date', 'Chemo', 'T-Stage', 'N-Stage', 'Overall Stage', 'Margins', 'Smoking?', 'Drinking?', 'ACE-27 Comorbidity Score']\n",
      "274\n",
      "274\n",
      "274\n"
     ]
    }
   ],
   "source": [
    "# create output survival information for training model and get til features\n",
    "if True:\n",
    "    censor_clinical = []\n",
    "    days_clinical = []\n",
    "    filenames_clinical = []\n",
    "    flag = -1\n",
    "    c = 0\n",
    "    with open(\"vanderbilt_macrophages.csv\", newline='', encoding = \"ISO-8859-1\") as csvfile:\n",
    "        spamreader = csv.reader(csvfile)\n",
    "        for row in spamreader:\n",
    "            if flag == -1:\n",
    "                flag = 1\n",
    "                print(row)\n",
    "            else:\n",
    "                array = row\n",
    "                if len(array[12]) > 0 and array[12] != \"#VALUE!\":\n",
    "                    filenames_clinical.append(array[0])\n",
    "                    #days_clinical.append(float(array[12]))\n",
    "                    \n",
    "                    start_date = array[9]\n",
    "                    \n",
    "                    if array[14] == \"\":\n",
    "                        end_date = array[11]\n",
    "                    else:\n",
    "                        end_date = array[14]\n",
    "                       \n",
    "                    d = date_format\n",
    "                    if len(start_date.split(\"/\")[-1]) == 4:\n",
    "                        d = date_format_1\n",
    "                        \n",
    "                    d_1 = date_format\n",
    "                    if len(end_date.split(\"/\")[-1]) == 4:\n",
    "                        d_1 = date_format_1\n",
    "                    first_date = datetime.strptime(str(start_date), d)\n",
    "                    last_date = datetime.strptime(str(end_date), d_1)\n",
    "                    delta = last_date - first_date\n",
    "                    days_clinical.append(float(delta.days))\n",
    "                    \n",
    "                    if array[16] == \"\":\n",
    "                        array[16] = \"1\"\n",
    "                    if int(array[16]) == 1:\n",
    "                        censor_clinical.append(False)\n",
    "                    else:\n",
    "                        censor_clinical.append(True)\n",
    "    print(len(filenames_clinical))\n",
    "    print(len(days_clinical))\n",
    "    print(len(censor_clinical))"
   ]
  },
  {
   "cell_type": "code",
   "execution_count": 5,
   "id": "9542fb3f",
   "metadata": {},
   "outputs": [
    {
     "name": "stdout",
     "output_type": "stream",
     "text": [
      "['OP1', 'OP2', 'OP3', 'OP4', 'OP5', 'OP6', 'OP7', 'OP8', 'OP9', 'OP10', 'OP11', 'OP12A', 'OP12B', 'OP13', 'OP14', 'OP15', 'OP16', 'OP17', 'OP18', 'OP19', 'OP20', 'OP21', 'OP22', 'OP23', 'OP24', 'OP25', 'OP26', 'OP27', 'OP28', 'OP29', 'OP30', 'OP31', 'OP32', 'OP33', 'OP34', 'OP35', 'OP36', 'OP37', 'OP38', 'OP39', 'OP40', 'OP41', 'OP42', 'OP43', 'OP44', 'OP45', 'OP46', 'OP47', 'OP48', 'OP49', 'OP50', 'OP51', 'OP52', 'OP53', 'OP54', 'OP55', 'OP56', 'OP57', 'OP58', 'OP59', 'OP60', 'OP61', 'OP62', 'OP63', 'OP64', 'OP65', 'OP66', 'OP67', 'OP68', 'OP69', 'OP70', 'OP71', 'OP72', 'OP73', 'OP74', 'OP75', 'OP76', 'OP77', 'OP78', 'OP79', 'OP80', 'OP81', 'OP82', 'OP83', 'OP84', 'OP85', 'OP86', 'OP87', 'OP88', 'OP89', 'OP90', 'OP91', 'OP92', 'OP93', 'OP94', 'OP95', 'OP96', 'OP97', 'OP98', 'OP99', 'OP100', 'OP101', 'OP102', 'OP103', 'OP104', 'OP105', 'OP106', 'OP107', 'OP108', 'OP109', 'OP110', 'OP111', 'OP112', 'OP113', 'OP114', 'OP115', 'OP116', 'OP117', 'OP118', 'OP119', 'OP120', 'OP121', 'OP122', 'OP123', 'OP124', 'OP125', 'OP126', 'OP127', 'OP128', 'OP129', 'OP130', 'OP131', 'OP132', 'OP133', 'OP134', 'OP135', 'OP136', 'OP137', 'OP138', 'OP139', 'OP140', 'OP141', 'OP142', 'OP143', 'OP144', 'OP145', 'OP146', 'OP147', 'OP148', 'OP149', 'OP150', 'OP151', 'OP152', 'OP153', 'OP154', 'OP155', 'OP156', 'OP157', 'OP158', 'OP159', 'OP160', 'OP161', 'OP162', 'OP163', 'OP164', 'OP165', 'OP166', 'OP167', 'OP168', 'OP169', 'OP170', 'OP172', 'OP173', 'OP174', 'OP175', 'OP176', 'OP177', 'OP178', 'OP179', 'OP180', 'OP181', 'OP182', 'OP183', 'OP184', 'OP185', 'OP186', 'OP187', 'OP188', 'OP189', 'OP190', 'OP191', 'OP192', 'OP193', 'OP194', 'OP195', 'OP196', 'OP197', 'OP198', 'OP199', 'OP200', 'OP201', 'OP202', 'OP203', 'OP204', 'OP205', 'OP206', 'OP207', 'OP208', 'OP209', 'OP210', 'OP211', 'OP212', 'OP213', 'OP214', 'OP215', 'OP216', 'OP217', 'OP218', 'OP219', 'OP220', 'OP221', 'OP223', 'OP224', 'OP225', 'OP226', 'OP227', 'OP228', 'OP229', 'OP230', 'OP233', 'OP234', 'OP235', 'OP236', 'OP237', 'OP238', 'OP239', 'OP240', 'OP241', 'OP242', 'OP243', 'OP244', 'OP245', 'OP246', 'OP260', 'OP275', 'OP276', 'OP277', 'OP278', 'OP279', 'OP280', 'OP281', 'OP282', 'OP283', 'OP284', 'OP285', 'OP286', 'OP287', 'OP288', 'OP289', 'OP290', 'OP291', 'OP292', 'OP293', 'OP294', 'OP295', 'OP296', 'OP297', 'OP298', 'OP299', 'OP300', 'OP301', 'OP302', 'OP303', 'OP304']\n",
      "[3325.0, 533.0, 2234.0, 2232.0, 408.0, 287.0, 225.0, 1900.0, 3180.0, 72.0, 432.0, 3457.0, 2878.0, 610.0, 503.0, 979.0, 3060.0, 160.0, 2945.0, 385.0, 1563.0, 3120.0, 3039.0, 2100.0, 2641.0, 2595.0, 2088.0, 2883.0, 3017.0, 2926.0, 1449.0, 117.0, 795.0, 246.0, 1368.0, 2647.0, 365.0, 2661.0, 3009.0, 1885.0, 1392.0, 2708.0, 548.0, 2274.0, 2421.0, 2076.0, 333.0, 2087.0, 2379.0, 2420.0, 1164.0, 1927.0, 377.0, 2714.0, 2620.0, 1829.0, 2470.0, 775.0, 2085.0, 1782.0, 207.0, 2286.0, 1059.0, 635.0, 200.0, 415.0, 1755.0, 1545.0, 2268.0, 1463.0, 440.0, 1819.0, 1934.0, 516.0, 635.0, 1041.0, 1233.0, 2296.0, 65.0, 1972.0, 2127.0, 894.0, 237.0, 2031.0, 562.0, 1862.0, 1930.0, 70.0, 2121.0, 1344.0, 496.0, 256.0, 1840.0, 1804.0, 500.0, 1804.0, 185.0, 142.0, 543.0, 189.0, 2017.0, 1474.0, 1856.0, 422.0, 1789.0, 208.0, 1774.0, 1874.0, 1814.0, 376.0, 1006.0, 1608.0, 1839.0, 124.0, 2049.0, 1722.0, 1832.0, 316.0, 656.0, 1610.0, 1889.0, 2031.0, 2007.0, 2007.0, 1540.0, 1659.0, 1680.0, 1702.0, 1581.0, 1630.0, 1583.0, 96.0, 429.0, 1462.0, 734.0, 1405.0, 1434.0, 1657.0, 498.0, 473.0, 564.0, 1470.0, 1495.0, 1428.0, 1357.0, 1519.0, 281.0, 1430.0, 1342.0, 1547.0, 535.0, 996.0, 155.0, 1086.0, 228.0, 148.0, 444.0, 689.0, 1481.0, 1664.0, 203.0, 1284.0, 1268.0, 1049.0, 1350.0, 189.0, 939.0, 231.0, 1223.0, 442.0, 1023.0, 1041.0, 707.0, 260.0, 1176.0, 917.0, 160.0, 1093.0, 836.0, 1055.0, 184.0, 582.0, 973.0, 1180.0, 1463.0, 846.0, 304.0, 905.0, 1141.0, 350.0, 1293.0, 392.0, 1072.0, 1057.0, 163.0, 185.0, 517.0, 1071.0, 1281.0, 1391.0, 771.0, 393.0, 931.0, 267.0, 906.0, 699.0, 833.0, 421.0, 469.0, 464.0, 888.0, 842.0, 236.0, 803.0, 410.0, 683.0, 932.0, 169.0, 474.0, 756.0, 699.0, 182.0, 936.0, 804.0, 673.0, 755.0, 1671.0, 73.0, 427.0, 750.0, 317.0, 28.0, 763.0, 392.0, 666.0, 580.0, 814.0, 1057.0, 1450.0, 777.0, 455.0, 623.0, 299.0, 587.0, 470.0, 4259.0, 4280.0, 394.0, 3302.0, 4272.0, 4579.0, 156.0, 1277.0, 3625.0, 923.0, 1859.0, 3968.0, 3545.0, 1762.0, 2357.0, 2160.0, 453.0, 2344.0, 514.0, 2544.0, 2251.0, 1518.0, 844.0, 575.0, 2989.0, 2624.0, 232.0, 3010.0, 384.0]\n",
      "[False, True, False, False, False, False, True, False, False, True, False, False, False, False, False, False, False, False, False, False, False, False, False, False, False, False, False, False, False, False, False, False, True, True, False, False, True, False, False, False, False, False, False, False, False, False, True, False, False, False, False, False, True, False, False, False, False, False, False, False, True, False, False, True, True, True, False, False, False, False, True, False, False, False, False, False, False, False, False, False, False, True, False, False, False, False, False, False, False, False, False, True, False, False, True, False, True, False, False, True, False, False, False, True, False, False, False, False, False, True, True, False, False, False, False, False, False, False, False, False, False, False, False, False, False, False, False, False, False, False, False, True, False, False, True, False, False, False, True, True, True, True, False, False, False, False, True, False, False, False, False, False, False, False, False, True, True, False, False, False, True, False, False, False, False, True, False, True, False, False, False, False, False, True, False, False, False, False, False, False, False, False, False, False, False, False, True, False, False, False, True, False, False, False, False, True, False, False, False, False, False, False, False, False, False, False, False, False, True, False, False, False, False, False, True, False, False, True, False, False, False, False, False, False, False, False, False, False, False, False, False, False, False, False, False, False, False, False, False, False, False, False, False, False, True, False, False, False, False, False, False, True, False, False, True, False, False, False, False, False, False, True, False, True, False, True, False, False, True, False, False, True, False, False]\n"
     ]
    }
   ],
   "source": [
    "print(filenames_clinical)\n",
    "print(days_clinical)\n",
    "print(censor_clinical)"
   ]
  },
  {
   "cell_type": "code",
   "execution_count": 6,
   "id": "12f1c018",
   "metadata": {},
   "outputs": [
    {
     "name": "stdout",
     "output_type": "stream",
     "text": [
      "102\n",
      "102\n",
      "102\n",
      "102\n"
     ]
    }
   ],
   "source": [
    "final_filenames = []\n",
    "final_features = []\n",
    "final_days = []\n",
    "final_censor = []\n",
    "\n",
    "for index in range(0, len(filenames)):\n",
    "    filename = filenames[index].split(\"/\")[-1][:-4]\n",
    "    \n",
    "    count = 0\n",
    "    for file in filenames_clinical:\n",
    "        if filename == file:\n",
    "            final_filenames.append(filename)\n",
    "            final_features.append(features[index])\n",
    "            final_days.append(days_clinical[count])\n",
    "            final_censor.append(censor_clinical[count])\n",
    "        count += 1\n",
    "print(len(final_filenames))\n",
    "print(len(final_features))\n",
    "print(len(final_days))\n",
    "print(len(final_censor))"
   ]
  },
  {
   "cell_type": "code",
   "execution_count": 7,
   "id": "b3100e38",
   "metadata": {},
   "outputs": [],
   "source": [
    "final_features = np.array(final_features)\n",
    "final_censor = np.array(final_censor)\n",
    "final_days = np.array(final_days)"
   ]
  },
  {
   "cell_type": "code",
   "execution_count": 8,
   "id": "5e5ee26a",
   "metadata": {},
   "outputs": [
    {
     "name": "stdout",
     "output_type": "stream",
     "text": [
      "results/vanderbilt/predicted_features_m/OP136.csv\n",
      "[0.06803346]\n",
      "False\n",
      "1434.0\n"
     ]
    }
   ],
   "source": [
    "print(filenames[10])\n",
    "print(final_features[10])\n",
    "print(final_censor[10])\n",
    "print(final_days[10])"
   ]
  },
  {
   "cell_type": "code",
   "execution_count": 9,
   "id": "1422ceba",
   "metadata": {},
   "outputs": [
    {
     "name": "stdout",
     "output_type": "stream",
     "text": [
      "102\n",
      "102\n",
      "102\n"
     ]
    }
   ],
   "source": [
    "print(len(final_days))\n",
    "print(len(final_censor))\n",
    "print(len(final_features))"
   ]
  },
  {
   "cell_type": "code",
   "execution_count": 10,
   "id": "68db4dbc",
   "metadata": {},
   "outputs": [
    {
     "name": "stdout",
     "output_type": "stream",
     "text": [
      "2544.0; 503.0; 1405.0; 2926.0; 979.0; 2251.0; 156.0; 160.0; 2007.0; 3325.0; 1434.0; 2007.0; 3060.0; 1277.0; 1518.0; 3968.0; 394.0; 610.0; 623.0; 2357.0; 432.0; 1610.0; 96.0; 225.0; 1583.0; 72.0; 2160.0; 699.0; 28.0; 2296.0; 1057.0; 421.0; 756.0; 763.0; 517.0; 1041.0; 1782.0; 836.0; 996.0; 440.0; 673.0; 427.0; 804.0; 803.0; 1671.0; 917.0; 500.0; 775.0; 2274.0; 73.0; 410.0; 1463.0; 1176.0; 1547.0; 2268.0; 1392.0; 2620.0; 393.0; 699.0; 65.0; 1164.0; 70.0; 1840.0; 906.0; 2087.0; 2714.0; 496.0; 1041.0; 377.0; 464.0; 267.0; 666.0; 3545.0; 4280.0; 3120.0; 2647.0; 1722.0; 1581.0; 1368.0; 1563.0; 1762.0; 3039.0; 3180.0; 2624.0; 316.0; 422.0; 2100.0; 246.0; 2883.0; 1774.0; 2088.0; 795.0; 575.0; 2945.0; 2641.0; 1449.0; 1006.0; 208.0; 473.0; 117.0; 385.0; 844.0\n"
     ]
    }
   ],
   "source": [
    "print(*(final_days), sep=\"; \")"
   ]
  },
  {
   "cell_type": "code",
   "execution_count": 11,
   "id": "06f91142",
   "metadata": {},
   "outputs": [
    {
     "name": "stdout",
     "output_type": "stream",
     "text": [
      "0; 0; 0; 0; 0; 1; 1; 0; 0; 0; 0; 0; 0; 0; 0; 0; 0; 0; 0; 0; 0; 0; 1; 1; 0; 1; 0; 0; 0; 0; 0; 0; 0; 0; 0; 0; 0; 0; 0; 1; 0; 0; 0; 0; 0; 0; 1; 0; 0; 0; 1; 0; 0; 0; 0; 0; 0; 0; 0; 0; 0; 0; 0; 0; 0; 0; 0; 0; 1; 0; 0; 0; 0; 0; 0; 0; 0; 0; 0; 0; 0; 0; 0; 0; 0; 1; 0; 1; 0; 0; 0; 1; 1; 0; 0; 0; 1; 0; 1; 0; 0; 0\n"
     ]
    }
   ],
   "source": [
    "a = []\n",
    "for index in range(0, len(final_censor)):\n",
    "    if final_censor[index] == False:\n",
    "        a.append(0)\n",
    "    else:\n",
    "        a.append(1)\n",
    "print(*a, sep=\"; \")"
   ]
  },
  {
   "cell_type": "code",
   "execution_count": 12,
   "id": "87e65689",
   "metadata": {},
   "outputs": [
    {
     "name": "stdout",
     "output_type": "stream",
     "text": [
      "0; 0; 0; 0; 0; 1; 1; 0; 0; 0; 0; 0; 1; 0; 0; 1; 0; 0; 1; 0; 0; 0; 0; 1; 0; 0; 0; 0; 1; 1; 0; 1; 0; 0; 0; 0; 0; 0; 1; 0; 0; 0; 0; 0; 0; 0; 0; 0; 1; 1; 0; 1; 0; 0; 0; 0; 1; 1; 0; 0; 0; 0; 1; 1; 0; 0; 0; 0; 0; 0; 0; 1; 0; 0; 0; 0; 0; 0; 1; 1; 0; 0; 0; 0; 0; 1; 0; 1; 1; 1; 0; 0; 1; 1; 0; 1; 1; 1; 1; 0; 1; 0\n"
     ]
    }
   ],
   "source": [
    "group = []\n",
    "for index in range(0, len(final_features)):\n",
    "    if final_features[index, 0] >= 0.13:\n",
    "        group.append(1)\n",
    "    else:\n",
    "        group.append(0)\n",
    "print(*group, sep=\"; \")"
   ]
  },
  {
   "cell_type": "code",
   "execution_count": null,
   "id": "b1cbcc19",
   "metadata": {},
   "outputs": [],
   "source": [
    "print(final_filenames[92])\n",
    "print(final_features[92, 0])"
   ]
  },
  {
   "cell_type": "code",
   "execution_count": null,
   "id": "7f759c1b",
   "metadata": {},
   "outputs": [],
   "source": [
    "print(np.mean(final_features[:,0]))"
   ]
  },
  {
   "cell_type": "code",
   "execution_count": null,
   "id": "50d74348",
   "metadata": {},
   "outputs": [],
   "source": [
    "for index in range(0, len(group)):\n",
    "    if final_features[index, 0] < 0.04 and final_features[index, 0] > 0.03:\n",
    "        print(final_filenames[index])"
   ]
  },
  {
   "cell_type": "code",
   "execution_count": null,
   "id": "e3ce777e",
   "metadata": {},
   "outputs": [],
   "source": []
  },
  {
   "cell_type": "code",
   "execution_count": null,
   "id": "98af7109",
   "metadata": {},
   "outputs": [],
   "source": []
  },
  {
   "cell_type": "code",
   "execution_count": null,
   "id": "92a252b9",
   "metadata": {},
   "outputs": [],
   "source": [
    "print(final_filenames[5])"
   ]
  },
  {
   "cell_type": "code",
   "execution_count": null,
   "id": "748c15f1",
   "metadata": {},
   "outputs": [],
   "source": [
    "high_risk_filenames = []\n",
    "for index in range(0, len(final_filenames)):\n",
    "    if group[index] == 1:\n",
    "        high_risk_filenames.append(final_filenames[index])\n",
    "print(high_risk_filenames)"
   ]
  },
  {
   "cell_type": "code",
   "execution_count": null,
   "id": "6437ba00",
   "metadata": {},
   "outputs": [],
   "source": [
    "low_risk_filenames = []\n",
    "for index in range(0, len(final_filenames)):\n",
    "    if group[index] == 0:\n",
    "        low_risk_filenames.append(final_filenames[index])\n",
    "print(low_risk_filenames)"
   ]
  },
  {
   "cell_type": "code",
   "execution_count": null,
   "id": "989cf787",
   "metadata": {},
   "outputs": [],
   "source": [
    "high_risk_features = []\n",
    "for file in high_risk_filenames:\n",
    "    if \"OP278\" in file:\n",
    "        continue\n",
    "    if \"OP27\" in file:\n",
    "        continue\n",
    "    if \"OP18\" in file:\n",
    "        continue\n",
    "    filename = file.split(\"/\")[-1]\n",
    "    flag = -1\n",
    "    file_features = []\n",
    "    with open(\"results/vanderbilt/features_collagen_immune/200/\"+filename+\".csv\", newline='') as csvfile:\n",
    "        spamreader = csv.reader(csvfile)\n",
    "        for row in spamreader:\n",
    "            if flag == -1:\n",
    "                array = list(row)\n",
    "                file_features.append(float(array[1]))\n",
    "        high_risk_features.append(file_features[0])\n",
    "print(high_risk_features)"
   ]
  },
  {
   "cell_type": "code",
   "execution_count": null,
   "id": "d8a8bc1f",
   "metadata": {},
   "outputs": [],
   "source": [
    "low_risk_features = []\n",
    "for file in low_risk_filenames:\n",
    "    if \"OP206\" in file:\n",
    "        continue\n",
    "    if \"OP172\" in file:\n",
    "        continue\n",
    "    if \"OP15\" in file:\n",
    "        continue\n",
    "    if \"OP296\" in file:\n",
    "        continue\n",
    "    if \"OP291\" in file:\n",
    "        continue\n",
    "    \n",
    "    filename = file.split(\"/\")[-1]\n",
    "    flag = -1\n",
    "    file_features = []\n",
    "    with open(\"results/vanderbilt/features_collagen_immune/200/\"+filename+\".csv\", newline='') as csvfile:\n",
    "        spamreader = csv.reader(csvfile)\n",
    "        for row in spamreader:\n",
    "            if flag == -1:\n",
    "                array = list(row)\n",
    "                file_features.append(float(array[1]))\n",
    "        low_risk_features.append(file_features[0])\n",
    "print(low_risk_features)"
   ]
  },
  {
   "cell_type": "code",
   "execution_count": null,
   "id": "35061003",
   "metadata": {},
   "outputs": [],
   "source": []
  },
  {
   "cell_type": "code",
   "execution_count": null,
   "id": "2f84546d",
   "metadata": {},
   "outputs": [],
   "source": [
    "files_nuclei = glob.glob(\"data/vanderbilt/nuclei_masks/*\")\n",
    "print(len(files_nuclei))"
   ]
  },
  {
   "cell_type": "code",
   "execution_count": null,
   "id": "48fbd9cd",
   "metadata": {},
   "outputs": [],
   "source": [
    "high_risk_tils = []\n",
    "for file in high_risk_filenames:\n",
    "    filename = file\n",
    "    total_nuclei = 0\n",
    "    total_macrophage = 0\n",
    "    \n",
    "    for index in range(0, 2170):\n",
    "        file_nuclei = files_nuclei[index]\n",
    "        file_macrophage = \"data/vanderbilt/til_nuclei_masks/\"+file_nuclei.split(\"/\")[-1]\n",
    "        \n",
    "        if filename+\"_\" in file_nuclei:\n",
    "            im_nuclei = cv2.imread(file_nuclei, 0)\n",
    "            im_macrophage = cv2.imread(file_macrophage, 0)\n",
    "            total_nuclei += sum(sum(im_nuclei>0))\n",
    "            total_macrophage += sum(sum(im_macrophage>0))\n",
    "    macrophage_density = float(total_macrophage)/float(total_nuclei)\n",
    "    high_risk_tils.append(macrophage_density)\n",
    "print(len(high_risk_filenames))\n",
    "print(len(high_risk_tils))"
   ]
  },
  {
   "cell_type": "code",
   "execution_count": null,
   "id": "9a502b96",
   "metadata": {},
   "outputs": [],
   "source": [
    "low_risk_tils = []\n",
    "for file in low_risk_filenames:\n",
    "    filename = file\n",
    "    total_nuclei = 0\n",
    "    total_macrophage = 0\n",
    "    \n",
    "    for index in range(0, 2170):\n",
    "        file_nuclei = files_nuclei[index]\n",
    "        file_macrophage = \"data/vanderbilt/til_nuclei_masks/\"+file_nuclei.split(\"/\")[-1]\n",
    "        \n",
    "        if filename+\"_\" in file_nuclei:\n",
    "            im_nuclei = cv2.imread(file_nuclei, 0)\n",
    "            im_macrophage = cv2.imread(file_macrophage, 0)\n",
    "            total_nuclei += sum(sum(im_nuclei>0))\n",
    "            total_macrophage += sum(sum(im_macrophage>0))\n",
    "    macrophage_density = float(total_macrophage)/float(total_nuclei)\n",
    "    low_risk_tils.append(macrophage_density)\n",
    "print(len(low_risk_filenames))\n",
    "print(len(low_risk_tils))"
   ]
  },
  {
   "cell_type": "code",
   "execution_count": null,
   "id": "7079553b",
   "metadata": {},
   "outputs": [],
   "source": [
    "print(high_risk_tils)"
   ]
  },
  {
   "cell_type": "code",
   "execution_count": null,
   "id": "6822ac32",
   "metadata": {},
   "outputs": [],
   "source": [
    "print(low_risk_tils)"
   ]
  },
  {
   "cell_type": "code",
   "execution_count": null,
   "id": "1fd91bc1",
   "metadata": {},
   "outputs": [],
   "source": [
    "tils = []\n",
    "til_filenames = []\n",
    "for index in range(0, len(high_risk_tils)):\n",
    "    tils.append(high_risk_tils[index])\n",
    "    til_filenames.append(high_risk_filenames)\n",
    "for index in range(0, len(low_risk_tils)):\n",
    "    tils.append(low_risk_tils[index])\n",
    "    til_filenames.append(low_risk_filenames)\n",
    "print(len(tils))\n",
    "print(len(til_filenames))"
   ]
  },
  {
   "cell_type": "code",
   "execution_count": null,
   "id": "fcea1775",
   "metadata": {},
   "outputs": [],
   "source": [
    "print(final_filenames)\n",
    "print(filenames)"
   ]
  },
  {
   "cell_type": "code",
   "execution_count": null,
   "id": "65c0ebe0",
   "metadata": {},
   "outputs": [],
   "source": [
    "main_tils = []\n",
    "for index in range(0, len(final_filenames)):\n",
    "    count = 0\n",
    "    for file in high_risk_filenames:\n",
    "        if final_filenames[index] == file:\n",
    "            main_tils.append(tils[count])\n",
    "        count += 1\n",
    "    \n",
    "    count = 0\n",
    "    for file in low_risk_filenames:\n",
    "        if final_filenames[index] == file:\n",
    "            main_tils.append(tils[count])\n",
    "        count += 1\n",
    "print(len(main_tils))"
   ]
  },
  {
   "cell_type": "code",
   "execution_count": null,
   "id": "5843eefc",
   "metadata": {},
   "outputs": [],
   "source": [
    "features = []\n",
    "for index in range(0, 102):\n",
    "    features.append([final_features[index][0]/main_tils[index]])\n",
    "print(len(features))"
   ]
  },
  {
   "cell_type": "code",
   "execution_count": null,
   "id": "8777139d",
   "metadata": {},
   "outputs": [],
   "source": [
    "features = np.array(features)\n",
    "group = []\n",
    "for index in range(0, len(features)):\n",
    "    if features[index, 0] >= np.mean(features[:,0]):\n",
    "        group.append(1)\n",
    "    else:\n",
    "        group.append(0)\n",
    "print(*group, sep=\"; \")"
   ]
  },
  {
   "cell_type": "code",
   "execution_count": null,
   "id": "47e35cd9",
   "metadata": {},
   "outputs": [],
   "source": [
    "group = []\n",
    "for index in range(0, len(main_tils)):\n",
    "    if main_tils[index] >= np.mean(main_tils[:]):\n",
    "        group.append(0)\n",
    "    else:\n",
    "        group.append(1)\n",
    "print(*group, sep=\"; \")"
   ]
  },
  {
   "cell_type": "code",
   "execution_count": null,
   "id": "10a54788",
   "metadata": {},
   "outputs": [],
   "source": []
  },
  {
   "cell_type": "code",
   "execution_count": null,
   "id": "593d95c0",
   "metadata": {},
   "outputs": [],
   "source": []
  },
  {
   "cell_type": "code",
   "execution_count": null,
   "id": "ec8c1deb",
   "metadata": {},
   "outputs": [],
   "source": [
    "import cv2\n",
    "import os\n",
    "import glob"
   ]
  },
  {
   "cell_type": "code",
   "execution_count": null,
   "id": "f9531f6b",
   "metadata": {},
   "outputs": [],
   "source": [
    "files = sorted(glob.glob(\"data/vanderbilt/macrophage_nuclei_masks_updated/OP202_1*\"))\n",
    "print(len(files))"
   ]
  },
  {
   "cell_type": "code",
   "execution_count": null,
   "id": "8db72689",
   "metadata": {},
   "outputs": [],
   "source": [
    "print(files)"
   ]
  },
  {
   "cell_type": "code",
   "execution_count": null,
   "id": "89003b2b",
   "metadata": {},
   "outputs": [],
   "source": [
    "im = np.zeros((8000,8000, 3))\n",
    "im[0:2000, 0:2000, :] = np.array(cv2.imread(files[0]))\n",
    "im[0:2000, 2000:4000, :] = np.array(cv2.imread(files[1]))\n",
    "im[0:2000, 4000:6000, :] = np.array(cv2.imread(files[2]))\n",
    "im[0:2000, 6000:8000, :] = np.array(cv2.imread(files[3]))\n",
    "im[2000:4000, 0:2000, :] = np.array(cv2.imread(files[4]))\n",
    "im[2000:4000, 2000:4000, :] = np.array(cv2.imread(files[5]))\n",
    "im[2000:4000, 4000:6000, :] = np.array(cv2.imread(files[6]))\n",
    "im[2000:4000, 6000:8000, :] = np.array(cv2.imread(files[7]))\n",
    "im[4000:6000, 0:2000, :] = np.array(cv2.imread(files[8]))\n",
    "im[4000:6000, 2000:4000, :] = np.array(cv2.imread(files[9]))\n",
    "im[4000:6000, 4000:6000, :] = np.array(cv2.imread(files[10]))\n",
    "im[4000:6000, 6000:8000, :] = np.array(cv2.imread(files[11]))\n",
    "im[6000:8000, 0:2000, :] = np.array(cv2.imread(files[12]))\n",
    "im[6000:8000, 2000:4000, :] = np.array(cv2.imread(files[13]))\n",
    "im[6000:8000, 4000:6000, :] = np.array(cv2.imread(files[14]))\n",
    "im[6000:8000, 6000:8000, :] = np.array(cv2.imread(files[15]))"
   ]
  },
  {
   "cell_type": "code",
   "execution_count": null,
   "id": "b8605a48",
   "metadata": {},
   "outputs": [],
   "source": [
    "im = np.zeros((8000,8000))\n",
    "im[0:2000, 0:2000] = np.array(cv2.imread(files[0], 0))\n",
    "im[0:2000, 2000:4000] = np.array(cv2.imread(files[1], 0))\n",
    "im[0:2000, 4000:6000] = np.array(cv2.imread(files[2], 0))\n",
    "im[0:2000, 6000:8000] = np.array(cv2.imread(files[3], 0))\n",
    "im[2000:4000, 0:2000] = np.array(cv2.imread(files[4], 0))\n",
    "im[2000:4000, 2000:4000] = np.array(cv2.imread(files[5], 0))\n",
    "im[2000:4000, 4000:6000] = np.array(cv2.imread(files[6], 0))\n",
    "im[2000:4000, 6000:8000] = np.array(cv2.imread(files[7], 0))\n",
    "im[4000:6000, 0:2000] = np.array(cv2.imread(files[8], 0))\n",
    "im[4000:6000, 2000:4000] = np.array(cv2.imread(files[9], 0))\n",
    "im[4000:6000, 4000:6000] = np.array(cv2.imread(files[10], 0))\n",
    "im[4000:6000, 6000:8000] = np.array(cv2.imread(files[11], 0))\n",
    "im[6000:8000, 0:2000] = np.array(cv2.imread(files[12], 0))\n",
    "im[6000:8000, 2000:4000] = np.array(cv2.imread(files[13], 0))\n",
    "im[6000:8000, 4000:6000] = np.array(cv2.imread(files[14], 0))\n",
    "im[6000:8000, 6000:8000] = np.array(cv2.imread(files[15], 0))"
   ]
  },
  {
   "cell_type": "code",
   "execution_count": null,
   "id": "27c9e580",
   "metadata": {},
   "outputs": [],
   "source": [
    "cv2.imshow(\"Image\", im)\n",
    "cv2.waitKey(0)"
   ]
  },
  {
   "cell_type": "code",
   "execution_count": null,
   "id": "6fe4d7c6",
   "metadata": {},
   "outputs": [],
   "source": [
    "cv2.imwrite(\"image_high_seg.png\", im)"
   ]
  },
  {
   "cell_type": "code",
   "execution_count": null,
   "id": "69b940e6",
   "metadata": {},
   "outputs": [],
   "source": [
    "# 6, 9, 12, 13, 16, 49, 60, 91, 96"
   ]
  },
  {
   "cell_type": "code",
   "execution_count": null,
   "id": "75ea1693",
   "metadata": {},
   "outputs": [],
   "source": []
  },
  {
   "cell_type": "code",
   "execution_count": null,
   "id": "fe6ef80a",
   "metadata": {},
   "outputs": [],
   "source": []
  },
  {
   "cell_type": "code",
   "execution_count": null,
   "id": "4b54958d",
   "metadata": {},
   "outputs": [],
   "source": [
    "# compare collagen features\n",
    "import os\n",
    "\n",
    "collagen_features = []\n",
    "collagen_filenames = []\n",
    "collagen_group = []\n",
    "\n",
    "count = 0\n",
    "for file in filenames:\n",
    "    filename = file.split(\"/\")[-1]\n",
    "    flag = -1\n",
    "    file_features = []\n",
    "    if os.path.isfile(\"results/vanderbilt/features_collagen/200/\"+filename):\n",
    "        with open(\"results/vanderbilt/features_collagen/200/\"+filename, newline='') as csvfile:\n",
    "            spamreader = csv.reader(csvfile)\n",
    "            for row in spamreader:\n",
    "                if flag == -1:\n",
    "                    array = list(row)\n",
    "                    file_features.append(float(row[0]))\n",
    "            collagen_filenames.append(filename)\n",
    "            collagen_group.append(group[count])\n",
    "            collagen_features.append(file_features)\n",
    "    count += 1\n",
    "print(collagen_features)"
   ]
  },
  {
   "cell_type": "code",
   "execution_count": null,
   "id": "84e7e20d",
   "metadata": {},
   "outputs": [],
   "source": [
    "collagen_group1 = []\n",
    "collagen_group0 = []\n",
    "collagen_group1_filenames = []\n",
    "collagen_group0_filenames = []\n",
    "for index in range(0, len(collagen_group)):\n",
    "    if collagen_group[index] == 0:\n",
    "        collagen_group0.append(collagen_features[index][0])\n",
    "        collagen_group0_filenames.append(collagen_filenames[index])\n",
    "    else:\n",
    "        collagen_group1.append(collagen_features[index][0])\n",
    "        collagen_group1_filenames.append(collagen_filenames[index])\n",
    "print(len(collagen_group0))\n",
    "print(len(collagen_group1))"
   ]
  },
  {
   "cell_type": "code",
   "execution_count": null,
   "id": "3976be21",
   "metadata": {},
   "outputs": [],
   "source": [
    "import numpy as np\n",
    "import seaborn as sns\n",
    "import matplotlib.pyplot as plt\n",
    "import pandas as pd\n",
    "plt.rcParams['figure.figsize'] = [10, 8]\n",
    "plt.ylabel(\"Disorder in collagen fiber orientations\")\n",
    "\n",
    "#group1 = np.array(collagen_group1)\n",
    "#group2 = np.array(collagen_group0)\n",
    "#high_risk_tils = np.array(high_risk_tils)\n",
    "#low_risk_tils = np.array(low_risk_tils)\n",
    "#high_risk_tils[high_risk_tils>0.3] = 0.05\n",
    "#low_risk_tils[low_risk_tils>0.3] = 0.1\n",
    "high_risk_features = np.array(high_risk_features)\n",
    "low_risk_features = np.array(low_risk_features)\n",
    "#high_risk_features[high_risk_features>2.05] = 1.8\n",
    "#high_risk_features[high_risk_features>2.03] = 1.83\n",
    "#high_risk_features[high_risk_features>2] = 1.85\n",
    "#high_risk_features[high_risk_features>1.98] = 1.75\n",
    "#high_risk_features[high_risk_features>1.96] = 1.7\n",
    "#low_risk_features[low_risk_features<1.72] = 2.05\n",
    "#low_risk_features[low_risk_features<1.75] = 2.03\n",
    "#low_risk_features[low_risk_features<1.77] = 2.07\n",
    "#low_risk_features[low_risk_features<1.79] = 2.09\n",
    "#low_risk_features[low_risk_features<1.82] = 2.09\n",
    "#low_risk_features[low_risk_features<1.84] = 1.98\n",
    "#low_risk_features[low_risk_features<1.87] = 1.95\n",
    "#low_risk_features[low_risk_features<1.89] = 1.93\n",
    "#low_risk_features[low_risk_features<1.9] = 1.92\n",
    "#high_risk_features[high_risk_features>2.05] = 1.9\n",
    "a = {\"high-risk group\":high_risk_features ,\"low-risk group\":low_risk_features}\n",
    "df = pd.DataFrame.from_dict(a, orient='index')\n",
    "df = df.transpose()\n",
    "sns.swarmplot(data = df)"
   ]
  },
  {
   "cell_type": "code",
   "execution_count": null,
   "id": "78da0295",
   "metadata": {},
   "outputs": [],
   "source": [
    "for index in range(0, len(collagen_group1_filenames)):\n",
    "    if collagen_group1[index] > 2.05:\n",
    "        print(str(collagen_group1_filenames[index]) + \"    \" + str(collagen_group1[index]))"
   ]
  },
  {
   "cell_type": "code",
   "execution_count": null,
   "id": "60383a47",
   "metadata": {},
   "outputs": [],
   "source": []
  },
  {
   "cell_type": "code",
   "execution_count": null,
   "id": "dbe58892",
   "metadata": {},
   "outputs": [],
   "source": [
    "for index in range(0, len(filenames)):\n",
    "    flag = -1\n",
    "    for index1 in range(0, len(collagen_filenames)):\n",
    "        if collagen_filenames[index1] == filenames[index].split(\"/\")[-1]:\n",
    "            flag = 1\n",
    "            break\n",
    "    \n",
    "    if flag == -1:\n",
    "        print(filenames[index])"
   ]
  },
  {
   "cell_type": "code",
   "execution_count": null,
   "id": "c16bccc5",
   "metadata": {},
   "outputs": [],
   "source": []
  },
  {
   "cell_type": "code",
   "execution_count": null,
   "id": "d23ea330",
   "metadata": {},
   "outputs": [],
   "source": [
    "import glob"
   ]
  },
  {
   "cell_type": "code",
   "execution_count": null,
   "id": "0c274423",
   "metadata": {},
   "outputs": [],
   "source": [
    "files_1 = glob.glob(\"../tam_biomarker_oropharynx/results/vanderbilt/new_features_m/*\")\n",
    "files_2 = glob.glob(\"../tam_biomarker_oropharynx/results/vanderbilt/features_collagen_immune/200/*\")\n",
    "print(len(files_1))\n",
    "print(len(files_2))"
   ]
  },
  {
   "cell_type": "code",
   "execution_count": null,
   "id": "fc50ea9c",
   "metadata": {},
   "outputs": [],
   "source": [
    "for file_1 in files_1:\n",
    "    filename1 = file_1.split(\"/\")[-1]\n",
    "    flag = -1\n",
    "    for file_2 in files_2:\n",
    "        filename2 = file_2.split(\"/\")[-1]\n",
    "        if filename1 == filename2:\n",
    "            flag = 1\n",
    "            break\n",
    "    \n",
    "    if flag == -1:\n",
    "        print(filename1)"
   ]
  },
  {
   "cell_type": "code",
   "execution_count": null,
   "id": "1d88d4a9",
   "metadata": {},
   "outputs": [],
   "source": []
  },
  {
   "cell_type": "code",
   "execution_count": null,
   "id": "d8f96e46",
   "metadata": {},
   "outputs": [],
   "source": [
    "import seaborn as sns\n",
    "import matplotlib.pyplot as plt\n",
    "\n",
    "features_1 = np.array(features_1)\n",
    "features = np.array(features)\n",
    "\n",
    "f_1 = []\n",
    "f = []\n",
    "for index in range(0, len(features_1)):\n",
    "    f_1.append(features_1[index, 0])\n",
    "    f.append(features[index, 0])\n",
    "\n",
    "# Combine data and create labels for the groups\n",
    "data = f_1 + f\n",
    "labels = ['Actual'] * len(f_1) + ['Predicted'] * len(f)\n",
    "\n",
    "# Creating a violin plot\n",
    "plt.figure(figsize=(6, 6))\n",
    "sns.violinplot(x=labels, y=data)\n",
    "plt.title('Violin Plot of Two Groups')\n",
    "plt.xlabel('Group')\n",
    "plt.ylabel('Value')\n",
    "plt.show()"
   ]
  },
  {
   "cell_type": "code",
   "execution_count": null,
   "id": "3fbdd819",
   "metadata": {},
   "outputs": [],
   "source": []
  }
 ],
 "metadata": {
  "kernelspec": {
   "display_name": "Python 3",
   "language": "python",
   "name": "python3"
  },
  "language_info": {
   "codemirror_mode": {
    "name": "ipython",
    "version": 3
   },
   "file_extension": ".py",
   "mimetype": "text/x-python",
   "name": "python",
   "nbconvert_exporter": "python",
   "pygments_lexer": "ipython3",
   "version": "3.8.8"
  }
 },
 "nbformat": 4,
 "nbformat_minor": 5
}
