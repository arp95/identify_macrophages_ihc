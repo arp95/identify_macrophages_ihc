{
 "cells": [
  {
   "cell_type": "code",
   "execution_count": 1,
   "id": "e80489b3",
   "metadata": {},
   "outputs": [
    {
     "name": "stdout",
     "output_type": "stream",
     "text": [
      "Header files loaded!\n"
     ]
    }
   ],
   "source": [
    "# header files\n",
    "%matplotlib inline\n",
    "import glob\n",
    "import csv\n",
    "import cv2\n",
    "import numpy as np\n",
    "import pandas as pd\n",
    "from sksurv.nonparametric import kaplan_meier_estimator\n",
    "from sksurv.linear_model import CoxnetSurvivalAnalysis\n",
    "from sksurv.linear_model import CoxPHSurvivalAnalysis\n",
    "from sksurv.ensemble import RandomSurvivalForest\n",
    "from sksurv.svm import HingeLossSurvivalSVM\n",
    "from sksurv.metrics import (\n",
    "    concordance_index_censored,\n",
    "    concordance_index_ipcw,\n",
    "    cumulative_dynamic_auc,\n",
    "    integrated_brier_score,\n",
    ")\n",
    "from sklearn.preprocessing import StandardScaler, MinMaxScaler, RobustScaler\n",
    "from sklearn.pipeline import make_pipeline\n",
    "from sklearn.model_selection import KFold\n",
    "from sklearn.model_selection import train_test_split\n",
    "import matplotlib.pyplot as plt\n",
    "from sklearn.feature_selection import SelectKBest\n",
    "from sklearn.feature_selection import chi2, f_regression, f_classif\n",
    "import matplotlib.pyplot as plt\n",
    "from datetime import datetime\n",
    "date_format = \"%m/%d/%Y\"\n",
    "plt.rcParams['figure.figsize'] = [4, 4]\n",
    "print(\"Header files loaded!\")"
   ]
  },
  {
   "cell_type": "code",
   "execution_count": 2,
   "id": "11937631",
   "metadata": {},
   "outputs": [
    {
     "name": "stdout",
     "output_type": "stream",
     "text": [
      "50\n"
     ]
    }
   ],
   "source": [
    "# load cervix cancer files\n",
    "filenames = (glob.glob(\"../results/emory/predicted_features/*\"))\n",
    "print(len(filenames))"
   ]
  },
  {
   "cell_type": "code",
   "execution_count": 3,
   "id": "6e074527",
   "metadata": {},
   "outputs": [
    {
     "name": "stdout",
     "output_type": "stream",
     "text": [
      "[[0.0704916448811392], [0.245768002298372], [0.05948350225443637], [0.0638924931235889], [0.233745331867386], [0.1776222883728405], [0.238301218974691], [0.2072093317950069], [0.0749134213859705], [0.1881482016421886], [0.06206962327134], [0.2131763158173928], [0.2461792233956068], [0.2064917238432327], [0.2311045577005599], [0.1100206961743309], [0.0533581893214465], [0.1753827065720689], [0.113962039941698], [0.2108966338082036], [0.1187966796079487], [0.219796399395218], [0.0810295842208371], [0.1336852281901268], [0.167121085897264], [0.070416276384865], [0.1260489997805625], [0.1403205021397684], [0.137276532339119], [0.1745912623705549], [0.0869146270568658], [0.1204366583182438], [0.04946949029065239], [0.2202022522798837], [0.249281655283618], [0.335217222125273], [0.098096921855186], [0.25090921294698], [0.099786539002644], [0.1186853903538891], [0.165403355771731], [0.26849193351056], [0.1755319628093149], [0.1979304347395555], [0.1543520216015321], [0.1186857385806106], [0.158122714782568], [0.2124179701342945], [0.0997331803308391], [0.1011524819001907]]\n"
     ]
    }
   ],
   "source": [
    "features = []\n",
    "for file in filenames:\n",
    "    filename = file.split(\"/\")[-1]\n",
    "    flag = -1\n",
    "    file_features = []\n",
    "    with open(\"../results/emory/predicted_features/\"+filename, newline='') as csvfile:\n",
    "        spamreader = csv.reader(csvfile)\n",
    "        for row in spamreader:\n",
    "            if flag == -1:\n",
    "                array = list(row)\n",
    "                file_features.append(float(array[0][1:len(array[0])-1]))\n",
    "        features.append(file_features)\n",
    "print(features)"
   ]
  },
  {
   "cell_type": "code",
   "execution_count": 4,
   "id": "df389872",
   "metadata": {},
   "outputs": [
    {
     "name": "stdout",
     "output_type": "stream",
     "text": [
      "['Patient Project ID (PPID)', 'Gender', '', 'Ethnicity', 'Age at Surgery', 'Neoadjuvant Treatment Received Prior to Surgical Accession Date? (Y/N)', 'HPV Status (+/-)', 'Path Status', 'Anatomic Site', 'Laterality', 'Synoptic Histology', 'TNM Descriptor(s)', 'Primary Tumor (pT)', 'Regional Lymph Nodes (pN)', 'Distant Metastasis (pM)', 'Primary Tumor (cT)', 'Regional Lymph Nodes (cN)', 'Distant Metastasis (cM)', 'Surgery (Y/N)', 'Date of Surgery', 'Radiation (Y/N)', 'Radiation Start Date (use to calculate PFS/OS)', 'Chemotherapy (Y/N)', 'Chemotherapy Start Date (use to calculate PFS/OS)', 'Progression of Disease Date (use to calculate PFS/OS)', 'Death Date (use to calculate PFS/OS)', 'Last Follow up Date (use to calculate PFS/OS)', 'Metastasis (Y/N)', 'TMA', 'Row', 'Column', 'Notes']\n",
      "112\n",
      "112\n",
      "112\n"
     ]
    }
   ],
   "source": [
    "# create output survival information for training model and get til features\n",
    "if True:\n",
    "    censor_clinical = []\n",
    "    days_clinical = []\n",
    "    filenames_clinical = []\n",
    "    flag = -1\n",
    "    c = 0\n",
    "    prev = \"\"\n",
    "    with open(\"../data/emory.csv\", newline='', encoding = \"ISO-8859-1\") as csvfile:\n",
    "        spamreader = csv.reader(csvfile)\n",
    "        for row in spamreader:\n",
    "            if flag == -1:\n",
    "                flag = 1\n",
    "            elif flag == 1:\n",
    "                print(row)\n",
    "                flag = 2\n",
    "            else:\n",
    "                array = row\n",
    "                if array[0] != prev:\n",
    "                    prev = array[0]\n",
    "                    filenames_clinical.append(array[0][6:])\n",
    "                    start_date = -1\n",
    "                    end_date = -1\n",
    "                    \n",
    "                    if array[len(array)-8] == \"NA\" or array[len(array)-8] == \"Unknown *\":\n",
    "                        end_date = array[len(array)-6]\n",
    "                    else:\n",
    "                        end_date = array[len(array)-8]\n",
    "                    \n",
    "                    if array[len(array)-12] == \"Y\":\n",
    "                        start_date = array[len(array)-11]\n",
    "                    elif array[len(array)-10] == \"Y\":\n",
    "                        start_date = array[len(array)-9]\n",
    "                    else:\n",
    "                        start_date = array[len(array)-13]    \n",
    "                    first_date = datetime.strptime(str(start_date), date_format)\n",
    "                    last_date = datetime.strptime(str(end_date), date_format)\n",
    "                    delta = last_date - first_date\n",
    "                    days_clinical.append(np.abs(float(delta.days)))\n",
    "                    \n",
    "                    if array[len(array)-8] == \"NA\":\n",
    "                        censor_clinical.append(False)\n",
    "                    else:\n",
    "                        censor_clinical.append(True)\n",
    "    print(len(filenames_clinical))\n",
    "    print(len(days_clinical))\n",
    "    print(len(censor_clinical))"
   ]
  },
  {
   "cell_type": "code",
   "execution_count": 5,
   "id": "e2a2d0c2",
   "metadata": {},
   "outputs": [
    {
     "name": "stdout",
     "output_type": "stream",
     "text": [
      "50\n",
      "50\n",
      "50\n",
      "50\n"
     ]
    }
   ],
   "source": [
    "final_filenames = []\n",
    "final_features = []\n",
    "final_days = []\n",
    "final_censor = []\n",
    "\n",
    "for index in range(0, len(filenames)):\n",
    "    filename = filenames[index].split(\"/\")[-1][:-4]\n",
    "    \n",
    "    count = 0\n",
    "    for file in filenames_clinical:\n",
    "        if filename == file:\n",
    "            final_filenames.append(filename)\n",
    "            final_features.append(features[index])\n",
    "            final_days.append(np.abs(days_clinical[count]))\n",
    "            final_censor.append(censor_clinical[count])\n",
    "        count += 1\n",
    "print(len(final_filenames))\n",
    "print(len(final_features))\n",
    "print(len(final_days))\n",
    "print(len(final_censor))"
   ]
  },
  {
   "cell_type": "code",
   "execution_count": 6,
   "id": "fd9eae1b",
   "metadata": {},
   "outputs": [],
   "source": [
    "final_features = np.array(final_features)\n",
    "final_censor = np.array(final_censor)\n",
    "final_days = np.array(final_days)"
   ]
  },
  {
   "cell_type": "code",
   "execution_count": 7,
   "id": "e62eafe4",
   "metadata": {},
   "outputs": [
    {
     "name": "stdout",
     "output_type": "stream",
     "text": [
      "978.0; 575.0; 344.0; 1121.0; 551.0; 701.0; 1183.0; 62.0; 947.0; 1022.0; 1064.0; 626.0; 455.0; 1100.0; 1616.0; 1525.0; 619.0; 1016.0; 332.0; 1128.0; 461.0; 791.0; 329.0; 315.0; 367.0; 1526.0; 1620.0; 322.0; 1050.0; 183.0; 305.0; 777.0; 665.0; 840.0; 1233.0; 1186.0; 495.0; 740.0; 584.0; 1150.0; 161.0; 1093.0; 7.0; 1149.0; 216.0; 758.0; 309.0; 782.0; 227.0; 154.0\n"
     ]
    }
   ],
   "source": [
    "print(*(final_days), sep=\"; \")"
   ]
  },
  {
   "cell_type": "code",
   "execution_count": 8,
   "id": "662c8af3",
   "metadata": {},
   "outputs": [
    {
     "name": "stdout",
     "output_type": "stream",
     "text": [
      "0; 0; 0; 1; 1; 0; 1; 1; 1; 0; 0; 1; 0; 0; 0; 1; 0; 0; 1; 0; 0; 0; 0; 0; 0; 0; 0; 0; 0; 0; 0; 0; 0; 0; 0; 0; 1; 0; 0; 0; 0; 0; 0; 0; 0; 0; 1; 0; 0; 1\n"
     ]
    }
   ],
   "source": [
    "a = []\n",
    "for index in range(0, len(final_censor)):\n",
    "    if final_censor[index] == False:\n",
    "        a.append(0)\n",
    "    else:\n",
    "        a.append(1)\n",
    "# a = [0; 1; 0; 0; 1; 1; 1; 1; 0; 1; 0; 1; 1; 1; 1; 1; 0; 1; 1; 1; 1; 1; 0; 1; 1; 0; 0; 0; 0; 1; 0; 0; 0; 1; 1; 1; 0; 0; 0; 0; 0; 0; 0; 0; 0; 0; 1; 0; 0; 1]\n",
    "print(*a, sep=\"; \")"
   ]
  },
  {
   "cell_type": "code",
   "execution_count": 9,
   "id": "b44270c8",
   "metadata": {},
   "outputs": [
    {
     "name": "stdout",
     "output_type": "stream",
     "text": [
      "0; 1; 0; 0; 1; 1; 1; 1; 0; 1; 0; 1; 1; 1; 1; 0; 0; 1; 0; 1; 0; 1; 0; 1; 1; 0; 0; 1; 1; 1; 0; 0; 0; 1; 1; 1; 0; 1; 0; 0; 1; 1; 1; 1; 1; 0; 1; 1; 0; 0\n"
     ]
    }
   ],
   "source": [
    "group = []\n",
    "for index in range(0, len(final_features)):\n",
    "    if final_features[index, 0] >= 0.13:\n",
    "        group.append(1)\n",
    "    else:\n",
    "        group.append(0)\n",
    "print(*group, sep=\"; \")"
   ]
  },
  {
   "cell_type": "code",
   "execution_count": null,
   "id": "26a3ffb0",
   "metadata": {},
   "outputs": [],
   "source": []
  }
 ],
 "metadata": {
  "kernelspec": {
   "display_name": "Python 3",
   "language": "python",
   "name": "python3"
  },
  "language_info": {
   "codemirror_mode": {
    "name": "ipython",
    "version": 3
   },
   "file_extension": ".py",
   "mimetype": "text/x-python",
   "name": "python",
   "nbconvert_exporter": "python",
   "pygments_lexer": "ipython3",
   "version": "3.8.8"
  }
 },
 "nbformat": 4,
 "nbformat_minor": 5
}
