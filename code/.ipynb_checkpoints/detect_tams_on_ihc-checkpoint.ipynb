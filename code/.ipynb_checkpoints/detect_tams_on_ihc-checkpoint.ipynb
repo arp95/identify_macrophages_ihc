{
 "cells": [
  {
   "cell_type": "code",
   "execution_count": 1,
   "id": "a730bfa0",
   "metadata": {},
   "outputs": [],
   "source": [
    "# header files needed\n",
    "import glob\n",
    "import csv\n",
    "import os\n",
    "import numpy as np\n",
    "import cv2"
   ]
  },
  {
   "cell_type": "code",
   "execution_count": 2,
   "id": "446d0e26",
   "metadata": {},
   "outputs": [],
   "source": [
    "# preprocessing function\n",
    "def remove_blobs(im):\n",
    "    image_nuclei_updated = np.zeros((3000, 3000))\n",
    "    contours,hierarchy = cv2.findContours(im, cv2.RETR_TREE,cv2.CHAIN_APPROX_NONE)\n",
    "    for c in contours:\n",
    "        (x,y,w,h) = cv2.boundingRect(c)\n",
    "        flag = -1\n",
    "        if w*h > 20:\n",
    "            for index1 in range(y, y+h):\n",
    "                for index2 in range(x, x+w):\n",
    "                    if im[index1, index2] > 0:\n",
    "                        flag = 1\n",
    "                        break\n",
    "        if flag == 1:\n",
    "            cv2.fillPoly(image_nuclei_updated, pts =[c], color=(255,255,255))\n",
    "    return image_nuclei_updated"
   ]
  },
  {
   "cell_type": "code",
   "execution_count": 9,
   "id": "6f1808f4",
   "metadata": {},
   "outputs": [
    {
     "data": {
      "text/plain": [
       "True"
      ]
     },
     "execution_count": 9,
     "metadata": {},
     "output_type": "execute_result"
    }
   ],
   "source": [
    "# run on a single file\n",
    "im = cv2.imread(\"Downloads/8718BUR_PT_24000_45000.png\")\n",
    "im_hsv = cv2.cvtColor(im, cv2.COLOR_BGR2HSV)\n",
    "mask = cv2.inRange(im_hsv, (10, 50, 50), (20, 150, 225))\n",
    "mask = remove_blobs(mask)\n",
    "cv2.imwrite(\"Downloads/8718BUR_PT_24000_45000_mask.png\", mask)"
   ]
  },
  {
   "cell_type": "code",
   "execution_count": null,
   "id": "3c692114",
   "metadata": {},
   "outputs": [],
   "source": []
  },
  {
   "cell_type": "code",
   "execution_count": null,
   "id": "01753b14",
   "metadata": {},
   "outputs": [],
   "source": [
    "# run on multiple files\n",
    "files = glob.glob(\"Downloads/ihc/*\")\n",
    "\n",
    "for file in files:\n",
    "    filename = file.split(\"/\")[-1]\n",
    "    im = cv2.imread(file)\n",
    "    im_hsv = cv2.cvtColor(im, cv2.COLOR_BGR2HSV)\n",
    "    mask = cv2.inRange(im_hsv, (10, 50, 50), (20, 150, 225))\n",
    "    mask = remove_blobs(mask)\n",
    "    cv2.imwrite(\"Downloads/brown/\"+filename, mask)"
   ]
  }
 ],
 "metadata": {
  "kernelspec": {
   "display_name": "Python 3",
   "language": "python",
   "name": "python3"
  },
  "language_info": {
   "codemirror_mode": {
    "name": "ipython",
    "version": 3
   },
   "file_extension": ".py",
   "mimetype": "text/x-python",
   "name": "python",
   "nbconvert_exporter": "python",
   "pygments_lexer": "ipython3",
   "version": "3.8.8"
  }
 },
 "nbformat": 4,
 "nbformat_minor": 5
}
