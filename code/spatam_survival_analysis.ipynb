{
 "cells": [
  {
   "cell_type": "code",
   "execution_count": 1,
   "id": "30b4dff6",
   "metadata": {},
   "outputs": [
    {
     "name": "stdout",
     "output_type": "stream",
     "text": [
      "Header files loaded!\n"
     ]
    }
   ],
   "source": [
    "# header files\n",
    "%matplotlib inline\n",
    "import glob\n",
    "import cv2\n",
    "import csv\n",
    "import numpy as np\n",
    "import pandas as pd\n",
    "import pandas as pd\n",
    "from sksurv.nonparametric import kaplan_meier_estimator\n",
    "from sksurv.linear_model import CoxnetSurvivalAnalysis\n",
    "from sksurv.linear_model import CoxPHSurvivalAnalysis\n",
    "from sksurv.ensemble import RandomSurvivalForest\n",
    "from sksurv.svm import HingeLossSurvivalSVM\n",
    "from sksurv.metrics import (\n",
    "    concordance_index_censored,\n",
    "    concordance_index_ipcw,\n",
    "    cumulative_dynamic_auc,\n",
    "    integrated_brier_score,\n",
    ")\n",
    "from sklearn.preprocessing import StandardScaler, MinMaxScaler, RobustScaler\n",
    "from sklearn.pipeline import make_pipeline\n",
    "from sklearn.model_selection import KFold\n",
    "from sklearn.model_selection import train_test_split\n",
    "import matplotlib.pyplot as plt\n",
    "from sklearn.feature_selection import SelectKBest\n",
    "from sklearn.feature_selection import chi2, f_regression, f_classif\n",
    "import matplotlib.pyplot as plt\n",
    "from datetime import datetime\n",
    "from datetime import datetime\n",
    "date_format = \"%m/%d/%Y\"\n",
    "date_format = \"%m/%d/%y\"\n",
    "date_format_1 = \"%m/%d/%Y\"\n",
    "plt.rcParams['figure.figsize'] = [4, 4]\n",
    "print(\"Header files loaded!\")\n",
    "from numpy import nan"
   ]
  },
  {
   "cell_type": "code",
   "execution_count": 2,
   "id": "a65f9fa0",
   "metadata": {},
   "outputs": [
    {
     "name": "stdout",
     "output_type": "stream",
     "text": [
      "102\n",
      "50\n"
     ]
    }
   ],
   "source": [
    "# load cervix cancer files\n",
    "filenames = (glob.glob(\"results/vanderbilt/features_collagen_immune/200/*\"))\n",
    "print(len(filenames))\n",
    "\n",
    "# load cervix cancer files\n",
    "test_filenames = (glob.glob(\"results/emory/features_collagen_immune/200/*\"))\n",
    "print(len(test_filenames))"
   ]
  },
  {
   "cell_type": "code",
   "execution_count": 3,
   "id": "89d86fb1",
   "metadata": {},
   "outputs": [
    {
     "name": "stdout",
     "output_type": "stream",
     "text": [
      "102\n"
     ]
    }
   ],
   "source": [
    "features = []\n",
    "for file in filenames:\n",
    "    filename = file.split(\"/\")[-1]\n",
    "    flag = -1\n",
    "    file_features = []\n",
    "    with open(\"../../Downloads/Vanderbilt_new/TAM_Spatial_Features-r0.06alpha0.6/\"+filename, newline='') as csvfile:\n",
    "        spamreader = csv.reader(csvfile)\n",
    "        for row in spamreader:\n",
    "            if flag == -1:\n",
    "                array = list(row)\n",
    "                flag = 1\n",
    "            else:\n",
    "                array = list(row)\n",
    "                if array[1] == \"mean\" or array[1] == \"Mean\":\n",
    "                    #a = [float(array[2])]\n",
    "                    a = []\n",
    "                    for index in range(2, len(array)):\n",
    "                        if array[index] == '':\n",
    "                            array[index] = '0'\n",
    "                        a.append(float(array[index]))\n",
    "                    file_features = file_features + a\n",
    "                if array[1] == \"kurtosis\" or array[1] == \"Kurtosis\":\n",
    "                    #a = [float(array[2])]\n",
    "                    a = []\n",
    "                    for index in range(2, len(array)):\n",
    "                        if array[index] == '':\n",
    "                            array[index] = '0'\n",
    "                        a.append(float(array[index]))\n",
    "                    file_features = file_features + a\n",
    "                if array[1] == \"max\" or array[1] == \"Max\":\n",
    "                    #a = [float(array[2])]\n",
    "                    a = []\n",
    "                    for index in range(2, len(array)):\n",
    "                        if array[index] == '':\n",
    "                            array[index] = '0'\n",
    "                        a.append(float(array[index]))\n",
    "                    file_features = file_features + a\n",
    "                if array[1] == \"min\" or array[1] == \"Min\":\n",
    "                    #a = [float(array[2])]\n",
    "                    a = []\n",
    "                    for index in range(2, len(array)):\n",
    "                        if array[index] == '':\n",
    "                            array[index] = '0'\n",
    "                        a.append(float(array[index]))\n",
    "                    file_features = file_features + a\n",
    "                if array[1] == \"median\" or array[1] == \"Median\":\n",
    "                    #a = [float(array[2])]\n",
    "                    a = []\n",
    "                    for index in range(2, len(array)):\n",
    "                        if array[index] == '':\n",
    "                            array[index] = '0'\n",
    "                        a.append(float(array[index]))\n",
    "                    file_features = file_features + a\n",
    "                if array[1] == \"skewness\" or array[1] == \"Skewness\":\n",
    "                    #a = [float(array[2])]\n",
    "                    a = []\n",
    "                    for index in range(2, len(array)):\n",
    "                        if array[index] == '':\n",
    "                            array[index] = '0'\n",
    "                        a.append(float(array[index]))\n",
    "                    file_features = file_features + a\n",
    "                if array[1] == \"std\" or array[1] == \"Std\":\n",
    "                    #a = [float(array[2])]\n",
    "                    a = []\n",
    "                    for index in range(2, len(array)):\n",
    "                        if array[index] == '':\n",
    "                            array[index] = '0'\n",
    "                        a.append(float(array[index]))\n",
    "                    file_features = file_features + a\n",
    "                if array[1] == \"sum\" or array[1] == \"Sum\":\n",
    "                    #a = [float(array[2])]\n",
    "                    a = []\n",
    "                    for index in range(2, len(array)):\n",
    "                        if array[index] == '':\n",
    "                            array[index] = '0'\n",
    "                        a.append(float(array[index]))\n",
    "                    file_features = file_features + a\n",
    "        features.append(file_features)\n",
    "print(len(features))"
   ]
  },
  {
   "cell_type": "code",
   "execution_count": 4,
   "id": "adb6e342",
   "metadata": {},
   "outputs": [
    {
     "name": "stdout",
     "output_type": "stream",
     "text": [
      "50\n"
     ]
    }
   ],
   "source": [
    "test_features = []\n",
    "for file in test_filenames:\n",
    "    filename = file.split(\"/\")[-1]\n",
    "    if filename[0] == \"0\":\n",
    "        filename = filename[1:]\n",
    "    if filename[0] == \"0\":\n",
    "        filename = filename[1:]\n",
    "    flag = -1\n",
    "    file_features = []\n",
    "    with open(\"../../Downloads/Emory_new/TAM_Spatial_Features-r0.06alpha0.6/\"+filename, newline='') as csvfile:\n",
    "        spamreader = csv.reader(csvfile)\n",
    "        for row in spamreader:\n",
    "            if flag == -1:\n",
    "                array = list(row)\n",
    "                flag = 1\n",
    "            else:\n",
    "                array = list(row)\n",
    "                \n",
    "                if array[1] == \"mean\" or array[1] == \"Mean\":\n",
    "                    #a = [float(array[2])]\n",
    "                    a = []\n",
    "                    for index in range(2, len(array)):\n",
    "                        if array[index] == '':\n",
    "                            array[index] = '0'\n",
    "                        a.append(float(array[index]))\n",
    "                    file_features = file_features + a\n",
    "                if array[1] == \"kurtosis\" or array[1] == \"Kurtosis\":\n",
    "                    #a = [float(array[2])]\n",
    "                    a = []\n",
    "                    for index in range(2, len(array)):\n",
    "                        if array[index] == '':\n",
    "                            array[index] = '0'\n",
    "                        a.append(float(array[index]))\n",
    "                    file_features = file_features + a\n",
    "                if array[1] == \"max\" or array[1] == \"Max\":\n",
    "                    #a = [float(array[2])]\n",
    "                    a = []\n",
    "                    for index in range(2, len(array)):\n",
    "                        if array[index] == '':\n",
    "                            array[index] = '0'\n",
    "                        a.append(float(array[index]))\n",
    "                    file_features = file_features + a\n",
    "                if array[1] == \"min\" or array[1] == \"Min\":\n",
    "                    #a = [float(array[2])]\n",
    "                    a = []\n",
    "                    for index in range(2, len(array)):\n",
    "                        if array[index] == '':\n",
    "                            array[index] = '0'\n",
    "                        a.append(float(array[index]))\n",
    "                    file_features = file_features + a\n",
    "                if array[1] == \"median\" or array[1] == \"Median\":\n",
    "                    #a = [float(array[2])]\n",
    "                    a = []\n",
    "                    for index in range(2, len(array)):\n",
    "                        if array[index] == '':\n",
    "                            array[index] = '0'\n",
    "                        a.append(float(array[index]))\n",
    "                    file_features = file_features + a\n",
    "                if array[1] == \"skewness\" or array[1] == \"Skewness\":\n",
    "                    #a = [float(array[2])]\n",
    "                    a = []\n",
    "                    for index in range(2, len(array)):\n",
    "                        if array[index] == '':\n",
    "                            array[index] = '0'\n",
    "                        a.append(float(array[index]))\n",
    "                    file_features = file_features + a\n",
    "                if array[1] == \"std\" or array[1] == \"Std\":\n",
    "                    #a = [float(array[2])]\n",
    "                    a = []\n",
    "                    for index in range(2, len(array)):\n",
    "                        if array[index] == '':\n",
    "                            array[index] = '0'\n",
    "                        a.append(float(array[index]))\n",
    "                    file_features = file_features + a\n",
    "                if array[1] == \"sum\" or array[1] == \"Sum\":\n",
    "                    #a = [float(array[2])]\n",
    "                    a = []\n",
    "                    for index in range(2, len(array)):\n",
    "                        if array[index] == '':\n",
    "                            array[index] = '0'\n",
    "                        a.append(float(array[index]))\n",
    "                    file_features = file_features + a\n",
    "        test_features.append(file_features)\n",
    "print(len(test_features))"
   ]
  },
  {
   "cell_type": "code",
   "execution_count": 5,
   "id": "0b0c853b",
   "metadata": {},
   "outputs": [
    {
     "name": "stdout",
     "output_type": "stream",
     "text": [
      "7424\n",
      "7424\n"
     ]
    }
   ],
   "source": [
    "print(len(features[100]))\n",
    "print(len(test_features[40]))"
   ]
  },
  {
   "cell_type": "code",
   "execution_count": 6,
   "id": "b15230b6",
   "metadata": {},
   "outputs": [
    {
     "name": "stdout",
     "output_type": "stream",
     "text": [
      "['ï»¿Code #', 'Age', 'Sex', 'Race', 'Path Histo #', 'HPV RNA ISH', 'p16 IHC Score', 'p16 Binary 75', 'Treatment', 'Date of Diagnosis ', 'Treatment Start Date', 'Last follow up', 'F/U Length', 'F/U Length Months', 'Last Disease Free FU Date', 'Patient Status', 'Disease status ', 'Local Failure', 'LCRF Date', 'regional fail', 'date reg rec', 'Dist met', 'DM Date', 'Chemo', 'T-Stage', 'N-Stage', 'Overall Stage', 'Margins', 'Smoking?', 'Drinking?', 'ACE-27 Comorbidity Score']\n",
      "274\n",
      "274\n",
      "274\n"
     ]
    }
   ],
   "source": [
    "# create output survival information for training model and get til features\n",
    "if True:\n",
    "    censor_clinical = []\n",
    "    days_clinical = []\n",
    "    filenames_clinical = []\n",
    "    flag = -1\n",
    "    c = 0\n",
    "    with open(\"vanderbilt_macrophages.csv\", newline='', encoding = \"ISO-8859-1\") as csvfile:\n",
    "        spamreader = csv.reader(csvfile)\n",
    "        for row in spamreader:\n",
    "            if flag == -1:\n",
    "                flag = 1\n",
    "                print(row)\n",
    "            else:\n",
    "                array = row\n",
    "                if len(array[12]) > 0 and array[12] != \"#VALUE!\":\n",
    "                    filenames_clinical.append(array[0])\n",
    "                    #days_clinical.append(float(array[12]))\n",
    "                    \n",
    "                    start_date = array[9]\n",
    "                    \n",
    "                    if array[14] == \"\":\n",
    "                        end_date = array[11]\n",
    "                    else:\n",
    "                        end_date = array[14]\n",
    "                       \n",
    "                    d = date_format\n",
    "                    if len(start_date.split(\"/\")[-1]) == 4:\n",
    "                        d = date_format_1\n",
    "                        \n",
    "                    d_1 = date_format\n",
    "                    if len(end_date.split(\"/\")[-1]) == 4:\n",
    "                        d_1 = date_format_1\n",
    "                    first_date = datetime.strptime(str(start_date), d)\n",
    "                    last_date = datetime.strptime(str(end_date), d_1)\n",
    "                    delta = last_date - first_date\n",
    "                    days_clinical.append(float(delta.days))\n",
    "                    \n",
    "                    if array[16] == \"\":\n",
    "                        array[16] = \"1\"\n",
    "                    if int(array[16]) == 1:\n",
    "                        censor_clinical.append(False)\n",
    "                    else:\n",
    "                        censor_clinical.append(True)\n",
    "    print(len(filenames_clinical))\n",
    "    print(len(days_clinical))\n",
    "    print(len(censor_clinical))"
   ]
  },
  {
   "cell_type": "code",
   "execution_count": 7,
   "id": "6349e929",
   "metadata": {},
   "outputs": [
    {
     "name": "stdout",
     "output_type": "stream",
     "text": [
      "102\n",
      "102\n",
      "102\n",
      "102\n"
     ]
    }
   ],
   "source": [
    "final_filenames = []\n",
    "final_features = []\n",
    "final_days = []\n",
    "final_censor = []\n",
    "\n",
    "for index in range(0, len(filenames)):\n",
    "    filename = filenames[index].split(\"/\")[-1][:-4]\n",
    "    \n",
    "    count = 0\n",
    "    for file in filenames_clinical:\n",
    "        if filename == file:\n",
    "            final_filenames.append(filename)\n",
    "            final_features.append(features[index])\n",
    "            final_days.append(days_clinical[count])\n",
    "            final_censor.append(censor_clinical[count])\n",
    "        count += 1\n",
    "print(len(final_filenames))\n",
    "print(len(final_features))\n",
    "print(len(final_days))\n",
    "print(len(final_censor))"
   ]
  },
  {
   "cell_type": "code",
   "execution_count": 8,
   "id": "1831b9c3",
   "metadata": {},
   "outputs": [
    {
     "name": "stdout",
     "output_type": "stream",
     "text": [
      "['Patient Project ID (PPID)', 'Gender', '', 'Ethnicity', 'Age at Surgery', 'Neoadjuvant Treatment Received Prior to Surgical Accession Date? (Y/N)', 'HPV Status (+/-)', 'Path Status', 'Anatomic Site', 'Laterality', 'Synoptic Histology', 'TNM Descriptor(s)', 'Primary Tumor (pT)', 'Regional Lymph Nodes (pN)', 'Distant Metastasis (pM)', 'Primary Tumor (cT)', 'Regional Lymph Nodes (cN)', 'Distant Metastasis (cM)', 'Surgery (Y/N)', 'Date of Surgery', 'Radiation (Y/N)', 'Radiation Start Date (use to calculate PFS/OS)', 'Chemotherapy (Y/N)', 'Chemotherapy Start Date (use to calculate PFS/OS)', 'Progression of Disease Date (use to calculate PFS/OS)', 'Death Date (use to calculate PFS/OS)', 'Last Follow up Date (use to calculate PFS/OS)', 'Metastasis (Y/N)', 'TMA', 'Row', 'Column', 'Notes']\n",
      "112\n",
      "112\n",
      "112\n"
     ]
    }
   ],
   "source": [
    "# create output survival information for training model and get til features\n",
    "date_format = \"%m/%d/%Y\"\n",
    "if True:\n",
    "    censor_clinical = []\n",
    "    days_clinical = []\n",
    "    filenames_clinical = []\n",
    "    flag = -1\n",
    "    c = 0\n",
    "    prev = \"\"\n",
    "    with open(\"emory_macrophages.csv\", newline='', encoding = \"ISO-8859-1\") as csvfile:\n",
    "        spamreader = csv.reader(csvfile)\n",
    "        for row in spamreader:\n",
    "            if flag == -1:\n",
    "                flag = 1\n",
    "            elif flag == 1:\n",
    "                print(row)\n",
    "                flag = 2\n",
    "            else:\n",
    "                array = row\n",
    "                if array[0] != prev:\n",
    "                    prev = array[0]\n",
    "                    filenames_clinical.append(array[0][6:])\n",
    "                    start_date = -1\n",
    "                    end_date = -1\n",
    "                    \n",
    "                    if array[len(array)-8] == \"NA\" or array[len(array)-8] == \"Unknown *\":\n",
    "                        end_date = array[len(array)-6]\n",
    "                    else:\n",
    "                        end_date = array[len(array)-8]\n",
    "                    \n",
    "                    if array[len(array)-12] == \"Y\":\n",
    "                        start_date = array[len(array)-11]\n",
    "                    elif array[len(array)-10] == \"Y\":\n",
    "                        start_date = array[len(array)-9]\n",
    "                    else:\n",
    "                        start_date = array[len(array)-13]    \n",
    "                    first_date = datetime.strptime(str(start_date), date_format)\n",
    "                    last_date = datetime.strptime(str(end_date), date_format)\n",
    "                    delta = last_date - first_date\n",
    "                    days_clinical.append(np.abs(float(delta.days)))\n",
    "                    \n",
    "                    if array[len(array)-8] == \"NA\":\n",
    "                        censor_clinical.append(False)\n",
    "                    else:\n",
    "                        censor_clinical.append(True)\n",
    "    print(len(filenames_clinical))\n",
    "    print(len(days_clinical))\n",
    "    print(len(censor_clinical))"
   ]
  },
  {
   "cell_type": "code",
   "execution_count": 9,
   "id": "7269c1cc",
   "metadata": {},
   "outputs": [
    {
     "name": "stdout",
     "output_type": "stream",
     "text": [
      "50\n",
      "50\n",
      "50\n",
      "50\n"
     ]
    }
   ],
   "source": [
    "final_test_filenames = []\n",
    "final_test_features = []\n",
    "final_test_days = []\n",
    "final_test_censor = []\n",
    "\n",
    "for index in range(0, len(test_filenames)):\n",
    "    filename = test_filenames[index].split(\"/\")[-1][:-4]\n",
    "    \n",
    "    count = 0\n",
    "    for file in filenames_clinical:\n",
    "        if filename == file:\n",
    "            final_test_filenames.append(filename)\n",
    "            final_test_features.append(test_features[index])\n",
    "            final_test_days.append(np.abs(days_clinical[count]))\n",
    "            final_test_censor.append(censor_clinical[count])\n",
    "        count += 1\n",
    "print(len(final_test_filenames))\n",
    "print(len(final_test_features))\n",
    "print(len(final_test_days))\n",
    "print(len(final_test_censor))"
   ]
  },
  {
   "cell_type": "code",
   "execution_count": null,
   "id": "48f45ff7",
   "metadata": {},
   "outputs": [],
   "source": []
  },
  {
   "cell_type": "code",
   "execution_count": 10,
   "id": "6f2b1c4f",
   "metadata": {},
   "outputs": [
    {
     "name": "stdout",
     "output_type": "stream",
     "text": [
      "     0              1             2              3            4     \\\n",
      "0     2.0    4190.745117   2095.372558    1261.075082  1912.095849   \n",
      "1     0.0       0.000000      0.000000       0.000000     0.000000   \n",
      "2     9.5  834045.585098  72321.196702  146275.602722  7263.446183   \n",
      "3     7.0   50779.159479   6394.264053    8855.670039  2430.890307   \n",
      "4     2.0    4185.147867   1858.991910     507.543027  1358.284688   \n",
      "..    ...            ...           ...            ...          ...   \n",
      "97    1.0    2583.501284   1594.082027       0.000000  1539.075441   \n",
      "98    1.0     339.763116    339.763116       0.000000   339.763116   \n",
      "99    2.5    4079.834084   1814.838552     919.928522  1143.702749   \n",
      "100   2.5    9500.083018   4254.905543    3113.314965  2848.334626   \n",
      "101   5.5   31016.399805   6299.287364    7514.983992  2378.123601   \n",
      "\n",
      "              5           6         7             8         9     ...  7414  \\\n",
      "0      3462.152615  421.763140  1.000000  0.000000e+00  0.003357  ...   0.0   \n",
      "1         0.000000    0.000000  0.000000  0.000000e+00  0.000000  ...   0.0   \n",
      "2    459904.005197  594.737311  5.782977  2.068043e+00  0.014806  ...   0.0   \n",
      "3     26413.184910  204.924236  3.050438  1.362681e+00  0.011020  ...   0.0   \n",
      "4      2955.294861  287.472598  1.000000  4.959337e-16  0.004310  ...   0.0   \n",
      "..             ...         ...       ...           ...       ...  ...   ...   \n",
      "97     2539.304053  652.626149  0.000000  0.000000e+00  0.001548  ...   0.0   \n",
      "98      339.763116  135.611093  0.000000  0.000000e+00  0.002981  ...   0.0   \n",
      "99     2764.148282  410.306438  1.150180  0.000000e+00  0.005813  ...   0.0   \n",
      "100    6642.055369  396.020054  1.243071  1.579868e-16  0.007156  ...   0.0   \n",
      "101   18375.073268  442.410022  2.239297  8.439702e-01  0.010756  ...   0.0   \n",
      "\n",
      "     7415  7416  7417  7418  7419  7420  7421  7422  7423  \n",
      "0     0.0   0.0   0.0   0.0   0.0   0.0   0.0   0.0   0.0  \n",
      "1     0.0   0.0   0.0   0.0   0.0   0.0   0.0   0.0   0.0  \n",
      "2     0.0   0.0   0.0   0.0   0.0   0.0   0.0   0.0   0.0  \n",
      "3     0.0   0.0   0.0   0.0   0.0   0.0   0.0   0.0   0.0  \n",
      "4     0.0   0.0   0.0   0.0   0.0   0.0   0.0   0.0   0.0  \n",
      "..    ...   ...   ...   ...   ...   ...   ...   ...   ...  \n",
      "97    0.0   0.0   0.0   0.0   0.0   0.0   0.0   0.0   0.0  \n",
      "98    0.0   0.0   0.0   0.0   0.0   0.0   0.0   0.0   0.0  \n",
      "99    0.0   0.0   0.0   0.0   0.0   0.0   0.0   0.0   0.0  \n",
      "100   0.0   0.0   0.0   0.0   0.0   0.0   0.0   0.0   0.0  \n",
      "101   0.0   0.0   0.0   0.0   0.0   0.0   0.0   0.0   0.0  \n",
      "\n",
      "[102 rows x 7424 columns]\n",
      "    0             1              2              3             4     \\\n",
      "0    4.0  1.403600e+04    3473.667032    3079.124369   2836.513297   \n",
      "1    0.0  0.000000e+00       0.000000       0.000000      0.000000   \n",
      "2    1.0  1.357528e+03    1357.527698       0.000000    909.574053   \n",
      "3    7.5  5.650645e+04    6316.596426    7329.804043   3023.328120   \n",
      "4    7.0  6.960399e+04   13920.112650   16890.130887   4911.049186   \n",
      "5    0.0  0.000000e+00       0.000000       0.000000      0.000000   \n",
      "6   15.5  2.146017e+05   13465.552255   24800.971453   2889.996400   \n",
      "7    6.0  1.051318e+05   13141.469475   29036.713946   3552.212647   \n",
      "8   12.0  1.531448e+05   20637.883569   37149.398488   4050.086648   \n",
      "9    5.0  6.134619e+04   10666.008944   16139.742359   4048.663534   \n",
      "10   4.0  3.800895e+04    6288.548961    4012.644878   2479.926917   \n",
      "11   8.0  4.264597e+04    6602.126939    7312.138838   3368.342373   \n",
      "12   6.0  4.887740e+04    8071.330477    8510.240303   3934.331963   \n",
      "13   0.5  1.149609e+03     770.308167       0.000000    770.308167   \n",
      "14   3.0  1.002251e+04    2505.674996    1897.336805   2198.321262   \n",
      "15   4.0  1.230148e+04    4008.046022    4500.569927   2026.443005   \n",
      "16   1.0  9.571284e+02     890.887821       0.000000    957.128384   \n",
      "17   1.0  5.079863e+02     507.986284       0.000000    507.986284   \n",
      "18   3.0  1.387876e+04    4625.629122    3950.092862   3018.246109   \n",
      "19   0.0  0.000000e+00       0.000000       0.000000      0.000000   \n",
      "20   3.0  2.533838e+04    6252.479075    7906.072497   2745.193962   \n",
      "21   3.0  3.268196e+03    1935.494110    1306.984829   1440.294223   \n",
      "22  10.0  8.376631e+04    8297.465984   11666.020327   2337.317474   \n",
      "23   8.0  1.530161e+05   14250.659412   20073.398399   4833.734374   \n",
      "24   5.0  4.503184e+05   38041.078956   82871.760287   7260.657036   \n",
      "25   6.0  2.806326e+04    4677.210723    1843.093831   4810.031276   \n",
      "26   3.0  2.116107e+04    7053.690531    6842.997315   4673.129826   \n",
      "27   9.0  1.875406e+05   17697.560543   28210.638983   5916.550690   \n",
      "28   3.0  1.350501e+05   18735.692622   25642.485638   3336.097647   \n",
      "29   6.0  2.439255e+04    6098.138091    6305.428748   2902.524511   \n",
      "30   1.0  9.121490e+02     912.148956       0.000000    912.148956   \n",
      "31   2.5  1.356843e+04    3258.307643    2721.839462   2146.115696   \n",
      "32   2.5  3.127990e+03    1042.663460     557.591933   1151.286744   \n",
      "33   9.0  5.914797e+04    6891.349776    8751.813426   3028.710011   \n",
      "34   9.0  2.279531e+05   23542.373583   29053.256725   5621.803569   \n",
      "35   6.5  1.432439e+06  209132.585499  335711.915796  10017.411326   \n",
      "36  12.0  1.293808e+05   14176.612954   23206.768383   3918.357865   \n",
      "37   3.0  5.168151e+03    1544.417151     927.000522   1302.259131   \n",
      "38   7.0  4.881719e+04    6342.958397    9626.879063   3320.642672   \n",
      "39  12.0  1.268390e+05   12003.308729   19751.042189   3972.363285   \n",
      "40   0.0  0.000000e+00       0.000000       0.000000      0.000000   \n",
      "41  11.0  2.191170e+05   15990.596722   24803.221307   6752.103399   \n",
      "42   2.0  2.434307e+03    1527.073500     642.281713   1309.822458   \n",
      "43   5.5  4.068381e+04    9902.581129   10214.898168   4866.250017   \n",
      "44   1.0  1.429321e+03    1429.320874       0.000000   1306.557325   \n",
      "45  11.0  1.959560e+05   17709.638620   46336.481124   3474.299567   \n",
      "46   7.0  1.108052e+05    7914.654319    9447.306007   5010.103274   \n",
      "47   1.0  8.793513e+03    3454.515245       0.000000   1218.348617   \n",
      "48  11.0  9.487939e+04    8625.398900   11476.814879   4107.557195   \n",
      "49  10.0  2.525616e+05   19759.284337   35362.051816   4452.016845   \n",
      "\n",
      "             5            6         7             8         9     ...  7414  \\\n",
      "0     6996.952876   655.956435  1.500000  3.098300e-01  0.010493  ...   0.0   \n",
      "1        0.000000     0.000000  0.000000  0.000000e+00  0.000000  ...   0.0   \n",
      "2     1357.527698   199.730168  0.000000  0.000000e+00  0.000634  ...   0.0   \n",
      "3    22719.151266   188.511542  2.791608  1.061473e+00  0.012672  ...   0.0   \n",
      "4    52211.022487   448.934497  3.556514  1.240650e+00  0.018216  ...   0.0   \n",
      "5        0.000000     0.000000  0.000000  0.000000e+00  0.000000  ...   0.0   \n",
      "6    81360.283639   257.020800  6.772988  2.338580e+00  0.043251  ...   0.0   \n",
      "7    77756.438377   672.888232  2.544022  1.154585e+00  0.010910  ...   0.0   \n",
      "8   103377.846319   492.500358  4.662900  1.649199e+00  0.014259  ...   0.0   \n",
      "9    46355.827864   623.336217  2.262710  7.070376e-01  0.013304  ...   0.0   \n",
      "10   23856.338712   310.131649  2.008078  2.872531e-01  0.015973  ...   0.0   \n",
      "11   18491.249440   350.877246  2.908810  9.248950e-01  0.022829  ...   0.0   \n",
      "12   22469.352158   268.533588  2.373992  8.603730e-01  0.022499  ...   0.0   \n",
      "13    1094.543402   446.072932  0.000000  0.000000e+00  0.000244  ...   0.0   \n",
      "14    5314.757815   212.816450  1.437856  0.000000e+00  0.005533  ...   0.0   \n",
      "15    8613.407583   506.747280  2.329786  1.150129e+00  0.008441  ...   0.0   \n",
      "16     957.128384   337.642561  0.000000  0.000000e+00  0.001828  ...   0.0   \n",
      "17     507.986284   125.052853  0.000000  0.000000e+00  0.000876  ...   0.0   \n",
      "18    7513.706452   240.345562  1.500000  2.625877e-16  0.014187  ...   0.0   \n",
      "19       0.000000     0.000000  0.000000  0.000000e+00  0.000000  ...   0.0   \n",
      "20   16793.611702   710.456992  1.357756  4.028233e-01  0.010374  ...   0.0   \n",
      "21    3017.180203   127.525200  1.500000  0.000000e+00  0.008482  ...   0.0   \n",
      "22   34444.985436   696.469459  2.318867  8.599681e-01  0.013249  ...   0.0   \n",
      "23   50954.471509   335.316829  4.146821  1.759786e+00  0.025282  ...   0.0   \n",
      "24  287360.232416   420.450044  3.249993  1.499995e+00  0.012791  ...   0.0   \n",
      "25    6796.076894  2577.846005  1.500000  7.007695e-01  0.005859  ...   0.0   \n",
      "26   13957.553530   476.565171  1.327501  5.501025e-02  0.003419  ...   0.0   \n",
      "27   79106.543169   326.843926  4.137953  1.615421e+00  0.023827  ...   0.0   \n",
      "28   59951.992513   918.987408  1.500000  6.256866e-01  0.004393  ...   0.0   \n",
      "29   12386.676313   624.960121  2.294996  1.108945e+00  0.018270  ...   0.0   \n",
      "30     912.148956   231.904374  0.000000  0.000000e+00  0.000455  ...   0.0   \n",
      "31    6825.366004   272.272308  1.171555  1.715802e-16  0.003108  ...   0.0   \n",
      "32    1505.475160   228.264043  1.010177  0.000000e+00  0.002794  ...   0.0   \n",
      "33   23407.535652   339.706713  2.367007  9.244495e-01  0.016137  ...   0.0   \n",
      "34   86675.650920   352.864116  4.550352  1.779742e+00  0.012567  ...   0.0   \n",
      "35  971131.547790   759.474625  3.528250  1.490339e+00  0.009489  ...   0.0   \n",
      "36   55531.236172   376.064600  3.309337  1.427570e+00  0.023828  ...   0.0   \n",
      "37    2241.105502   190.306436  1.266725  3.132819e-16  0.005618  ...   0.0   \n",
      "38   30911.588665   234.844778  3.424247  1.292925e+00  0.024264  ...   0.0   \n",
      "39   54752.284266   472.322926  4.554150  1.694982e+00  0.021699  ...   0.0   \n",
      "40       0.000000     0.000000  0.000000  0.000000e+00  0.000000  ...   0.0   \n",
      "41   92277.210824   384.065983  3.916052  1.360280e+00  0.024509  ...   0.0   \n",
      "42    1636.931911   427.504662  1.000000  0.000000e+00  0.007872  ...   0.0   \n",
      "43   29516.022368   309.185814  2.013373  6.074413e-01  0.015395  ...   0.0   \n",
      "44    1429.320874   247.983179  0.000000  0.000000e+00  0.004227  ...   0.0   \n",
      "45  132376.315728   442.887874  5.728649  1.884215e+00  0.017169  ...   0.0   \n",
      "46   27874.471107   481.233592  2.972408  8.256396e-01  0.008178  ...   0.0   \n",
      "47    8693.776784   459.068909  0.000000  0.000000e+00  0.002676  ...   0.0   \n",
      "48   33932.855593   495.634929  5.158472  2.037493e+00  0.025389  ...   0.0   \n",
      "49  118996.136789   446.268168  4.086722  1.544831e+00  0.013016  ...   0.0   \n",
      "\n",
      "    7415  7416  7417  7418  7419  7420  7421  7422  7423  \n",
      "0    0.0   0.0   0.0   0.0   0.0   0.0   0.0   0.0   0.0  \n",
      "1    0.0   0.0   0.0   0.0   0.0   0.0   0.0   0.0   0.0  \n",
      "2    0.0   0.0   0.0   0.0   0.0   0.0   0.0   0.0   0.0  \n",
      "3    0.0   0.0   0.0   0.0   0.0   0.0   0.0   0.0   0.0  \n",
      "4    0.0   0.0   0.0   0.0   0.0   0.0   0.0   0.0   0.0  \n",
      "5    0.0   0.0   0.0   0.0   0.0   0.0   0.0   0.0   0.0  \n",
      "6    0.0   0.0   0.0   0.0   0.0   0.0   0.0   0.0   0.0  \n",
      "7    0.0   0.0   0.0   0.0   0.0   0.0   0.0   0.0   0.0  \n",
      "8    0.0   0.0   0.0   0.0   0.0   0.0   0.0   0.0   0.0  \n",
      "9    0.0   0.0   0.0   0.0   0.0   0.0   0.0   0.0   0.0  \n",
      "10   0.0   0.0   0.0   0.0   0.0   0.0   0.0   0.0   0.0  \n",
      "11   0.0   0.0   0.0   0.0   0.0   0.0   0.0   0.0   0.0  \n",
      "12   0.0   0.0   0.0   0.0   0.0   0.0   0.0   0.0   0.0  \n",
      "13   0.0   0.0   0.0   0.0   0.0   0.0   0.0   0.0   0.0  \n",
      "14   0.0   0.0   0.0   0.0   0.0   0.0   0.0   0.0   0.0  \n",
      "15   0.0   0.0   0.0   0.0   0.0   0.0   0.0   0.0   0.0  \n",
      "16   0.0   0.0   0.0   0.0   0.0   0.0   0.0   0.0   0.0  \n",
      "17   0.0   0.0   0.0   0.0   0.0   0.0   0.0   0.0   0.0  \n",
      "18   0.0   0.0   0.0   0.0   0.0   0.0   0.0   0.0   0.0  \n",
      "19   0.0   0.0   0.0   0.0   0.0   0.0   0.0   0.0   0.0  \n",
      "20   0.0   0.0   0.0   0.0   0.0   0.0   0.0   0.0   0.0  \n",
      "21   0.0   0.0   0.0   0.0   0.0   0.0   0.0   0.0   0.0  \n",
      "22   0.0   0.0   0.0   0.0   0.0   0.0   0.0   0.0   0.0  \n",
      "23   0.0   0.0   0.0   0.0   0.0   0.0   0.0   0.0   0.0  \n",
      "24   0.0   0.0   0.0   0.0   0.0   0.0   0.0   0.0   0.0  \n",
      "25   0.0   0.0   0.0   0.0   0.0   0.0   0.0   0.0   0.0  \n",
      "26   0.0   0.0   0.0   0.0   0.0   0.0   0.0   0.0   0.0  \n",
      "27   0.0   0.0   0.0   0.0   0.0   0.0   0.0   0.0   0.0  \n",
      "28   0.0   0.0   0.0   0.0   0.0   0.0   0.0   0.0   0.0  \n",
      "29   0.0   0.0   0.0   0.0   0.0   0.0   0.0   0.0   0.0  \n",
      "30   0.0   0.0   0.0   0.0   0.0   0.0   0.0   0.0   0.0  \n",
      "31   0.0   0.0   0.0   0.0   0.0   0.0   0.0   0.0   0.0  \n",
      "32   0.0   0.0   0.0   0.0   0.0   0.0   0.0   0.0   0.0  \n",
      "33   0.0   0.0   0.0   0.0   0.0   0.0   0.0   0.0   0.0  \n",
      "34   0.0   0.0   0.0   0.0   0.0   0.0   0.0   0.0   0.0  \n",
      "35   0.0   0.0   0.0   0.0   0.0   0.0   0.0   0.0   0.0  \n",
      "36   0.0   0.0   0.0   0.0   0.0   0.0   0.0   0.0   0.0  \n",
      "37   0.0   0.0   0.0   0.0   0.0   0.0   0.0   0.0   0.0  \n",
      "38   0.0   0.0   0.0   0.0   0.0   0.0   0.0   0.0   0.0  \n",
      "39   0.0   0.0   0.0   0.0   0.0   0.0   0.0   0.0   0.0  \n",
      "40   0.0   0.0   0.0   0.0   0.0   0.0   0.0   0.0   0.0  \n",
      "41   0.0   0.0   0.0   0.0   0.0   0.0   0.0   0.0   0.0  \n",
      "42   0.0   0.0   0.0   0.0   0.0   0.0   0.0   0.0   0.0  \n",
      "43   0.0   0.0   0.0   0.0   0.0   0.0   0.0   0.0   0.0  \n",
      "44   0.0   0.0   0.0   0.0   0.0   0.0   0.0   0.0   0.0  \n",
      "45   0.0   0.0   0.0   0.0   0.0   0.0   0.0   0.0   0.0  \n",
      "46   0.0   0.0   0.0   0.0   0.0   0.0   0.0   0.0   0.0  \n",
      "47   0.0   0.0   0.0   0.0   0.0   0.0   0.0   0.0   0.0  \n",
      "48   0.0   0.0   0.0   0.0   0.0   0.0   0.0   0.0   0.0  \n",
      "49   0.0   0.0   0.0   0.0   0.0   0.0   0.0   0.0   0.0  \n",
      "\n",
      "[50 rows x 7424 columns]\n"
     ]
    }
   ],
   "source": [
    "train_data = pd.DataFrame(final_features)\n",
    "val_data = pd.DataFrame(final_test_features)\n",
    "print(train_data)\n",
    "print(val_data)"
   ]
  },
  {
   "cell_type": "code",
   "execution_count": 11,
   "id": "94a6c482",
   "metadata": {},
   "outputs": [
    {
     "name": "stderr",
     "output_type": "stream",
     "text": [
      "<ipython-input-11-7e60c834461a>:2: DeprecationWarning: `np.bool` is a deprecated alias for the builtin `bool`. To silence this warning, use `bool` by itself. Doing this will not modify any behavior and is safe. If you specifically wanted the numpy scalar type, use `np.bool_` here.\n",
      "Deprecated in NumPy 1.20; for more details and guidance: https://numpy.org/devdocs/release/1.20.0-notes.html#deprecations\n",
      "  upper = corr.where(np.triu(np.ones(corr.shape), k=1).astype(np.bool))\n"
     ]
    }
   ],
   "source": [
    "corr = train_data.corr().abs()\n",
    "upper = corr.where(np.triu(np.ones(corr.shape), k=1).astype(np.bool))\n",
    "to_drop = [column for column in upper.columns if any(upper[column] > 0.6)]\n",
    "train_data = train_data.drop(train_data[to_drop], axis=1)"
   ]
  },
  {
   "cell_type": "code",
   "execution_count": 12,
   "id": "acf2352c",
   "metadata": {},
   "outputs": [
    {
     "name": "stdout",
     "output_type": "stream",
     "text": [
      "     0           6     27    28    29    30    31    47    48    49    ...  \\\n",
      "0     2.0  421.763140   0.0   0.0   0.0   0.0   0.0   0.0   0.0   0.0  ...   \n",
      "1     0.0    0.000000   0.0   0.0   0.0   0.0   0.0   0.0   0.0   0.0  ...   \n",
      "2     9.5  594.737311   0.0   0.0   0.0   0.0   0.0   0.0   0.0   0.0  ...   \n",
      "3     7.0  204.924236   0.0   0.0   0.0   0.0   0.0   0.0   0.0   0.0  ...   \n",
      "4     2.0  287.472598   0.0   0.0   0.0   0.0   0.0   0.0   0.0   0.0  ...   \n",
      "..    ...         ...   ...   ...   ...   ...   ...   ...   ...   ...  ...   \n",
      "97    1.0  652.626149   0.0   0.0   0.0   0.0   0.0   0.0   0.0   0.0  ...   \n",
      "98    1.0  135.611093   0.0   0.0   0.0   0.0   0.0   0.0   0.0   0.0  ...   \n",
      "99    2.5  410.306438   0.0   0.0   0.0   0.0   0.0   0.0   0.0   0.0  ...   \n",
      "100   2.5  396.020054   0.0   0.0   0.0   0.0   0.0   0.0   0.0   0.0  ...   \n",
      "101   5.5  442.410022   0.0   0.0   0.0   0.0   0.0   0.0   0.0   0.0  ...   \n",
      "\n",
      "     7414  7415  7416  7417  7418  7419  7420  7421  7422  7423  \n",
      "0     0.0   0.0   0.0   0.0   0.0   0.0   0.0   0.0   0.0   0.0  \n",
      "1     0.0   0.0   0.0   0.0   0.0   0.0   0.0   0.0   0.0   0.0  \n",
      "2     0.0   0.0   0.0   0.0   0.0   0.0   0.0   0.0   0.0   0.0  \n",
      "3     0.0   0.0   0.0   0.0   0.0   0.0   0.0   0.0   0.0   0.0  \n",
      "4     0.0   0.0   0.0   0.0   0.0   0.0   0.0   0.0   0.0   0.0  \n",
      "..    ...   ...   ...   ...   ...   ...   ...   ...   ...   ...  \n",
      "97    0.0   0.0   0.0   0.0   0.0   0.0   0.0   0.0   0.0   0.0  \n",
      "98    0.0   0.0   0.0   0.0   0.0   0.0   0.0   0.0   0.0   0.0  \n",
      "99    0.0   0.0   0.0   0.0   0.0   0.0   0.0   0.0   0.0   0.0  \n",
      "100   0.0   0.0   0.0   0.0   0.0   0.0   0.0   0.0   0.0   0.0  \n",
      "101   0.0   0.0   0.0   0.0   0.0   0.0   0.0   0.0   0.0   0.0  \n",
      "\n",
      "[102 rows x 6768 columns]\n"
     ]
    }
   ],
   "source": [
    "print(train_data)"
   ]
  },
  {
   "cell_type": "code",
   "execution_count": 13,
   "id": "ceb1e85f",
   "metadata": {},
   "outputs": [
    {
     "name": "stdout",
     "output_type": "stream",
     "text": [
      "    0            6     27    28    29    30    31    47    48    49    ...  \\\n",
      "0    4.0   655.956435   0.0   0.0   0.0   0.0   0.0   0.0   0.0   0.0  ...   \n",
      "1    0.0     0.000000   0.0   0.0   0.0   0.0   0.0   0.0   0.0   0.0  ...   \n",
      "2    1.0   199.730168   0.0   0.0   0.0   0.0   0.0   0.0   0.0   0.0  ...   \n",
      "3    7.5   188.511542   0.0   0.0   0.0   0.0   0.0   0.0   0.0   0.0  ...   \n",
      "4    7.0   448.934497   0.0   0.0   0.0   0.0   0.0   0.0   0.0   0.0  ...   \n",
      "5    0.0     0.000000   0.0   0.0   0.0   0.0   0.0   0.0   0.0   0.0  ...   \n",
      "6   15.5   257.020800   0.0   0.0   0.0   0.0   0.0   0.0   0.0   0.0  ...   \n",
      "7    6.0   672.888232   0.0   0.0   0.0   0.0   0.0   0.0   0.0   0.0  ...   \n",
      "8   12.0   492.500358   0.0   0.0   0.0   0.0   0.0   0.0   0.0   0.0  ...   \n",
      "9    5.0   623.336217   0.0   0.0   0.0   0.0   0.0   0.0   0.0   0.0  ...   \n",
      "10   4.0   310.131649   0.0   0.0   0.0   0.0   0.0   0.0   0.0   0.0  ...   \n",
      "11   8.0   350.877246   0.0   0.0   0.0   0.0   0.0   0.0   0.0   0.0  ...   \n",
      "12   6.0   268.533588   0.0   0.0   0.0   0.0   0.0   0.0   0.0   0.0  ...   \n",
      "13   0.5   446.072932   0.0   0.0   0.0   0.0   0.0   0.0   0.0   0.0  ...   \n",
      "14   3.0   212.816450   0.0   0.0   0.0   0.0   0.0   0.0   0.0   0.0  ...   \n",
      "15   4.0   506.747280   0.0   0.0   0.0   0.0   0.0   0.0   0.0   0.0  ...   \n",
      "16   1.0   337.642561   0.0   0.0   0.0   0.0   0.0   0.0   0.0   0.0  ...   \n",
      "17   1.0   125.052853   0.0   0.0   0.0   0.0   0.0   0.0   0.0   0.0  ...   \n",
      "18   3.0   240.345562   0.0   0.0   0.0   0.0   0.0   0.0   0.0   0.0  ...   \n",
      "19   0.0     0.000000   0.0   0.0   0.0   0.0   0.0   0.0   0.0   0.0  ...   \n",
      "20   3.0   710.456992   0.0   0.0   0.0   0.0   0.0   0.0   0.0   0.0  ...   \n",
      "21   3.0   127.525200   0.0   0.0   0.0   0.0   0.0   0.0   0.0   0.0  ...   \n",
      "22  10.0   696.469459   0.0   0.0   0.0   0.0   0.0   0.0   0.0   0.0  ...   \n",
      "23   8.0   335.316829   0.0   0.0   0.0   0.0   0.0   0.0   0.0   0.0  ...   \n",
      "24   5.0   420.450044   0.0   0.0   0.0   0.0   0.0   0.0   0.0   0.0  ...   \n",
      "25   6.0  2577.846005   0.0   0.0   0.0   0.0   0.0   0.0   0.0   0.0  ...   \n",
      "26   3.0   476.565171   0.0   0.0   0.0   0.0   0.0   0.0   0.0   0.0  ...   \n",
      "27   9.0   326.843926   0.0   0.0   0.0   0.0   0.0   0.0   0.0   0.0  ...   \n",
      "28   3.0   918.987408   0.0   0.0   0.0   0.0   0.0   0.0   0.0   0.0  ...   \n",
      "29   6.0   624.960121   0.0   0.0   0.0   0.0   0.0   0.0   0.0   0.0  ...   \n",
      "30   1.0   231.904374   0.0   0.0   0.0   0.0   0.0   0.0   0.0   0.0  ...   \n",
      "31   2.5   272.272308   0.0   0.0   0.0   0.0   0.0   0.0   0.0   0.0  ...   \n",
      "32   2.5   228.264043   0.0   0.0   0.0   0.0   0.0   0.0   0.0   0.0  ...   \n",
      "33   9.0   339.706713   0.0   0.0   0.0   0.0   0.0   0.0   0.0   0.0  ...   \n",
      "34   9.0   352.864116   0.0   0.0   0.0   0.0   0.0   0.0   0.0   0.0  ...   \n",
      "35   6.5   759.474625   0.0   0.0   0.0   0.0   0.0   0.0   0.0   0.0  ...   \n",
      "36  12.0   376.064600   0.0   0.0   0.0   0.0   0.0   0.0   0.0   0.0  ...   \n",
      "37   3.0   190.306436   0.0   0.0   0.0   0.0   0.0   0.0   0.0   0.0  ...   \n",
      "38   7.0   234.844778   0.0   0.0   0.0   0.0   0.0   0.0   0.0   0.0  ...   \n",
      "39  12.0   472.322926   0.0   0.0   0.0   0.0   0.0   0.0   0.0   0.0  ...   \n",
      "40   0.0     0.000000   0.0   0.0   0.0   0.0   0.0   0.0   0.0   0.0  ...   \n",
      "41  11.0   384.065983   0.0   0.0   0.0   0.0   0.0   0.0   0.0   0.0  ...   \n",
      "42   2.0   427.504662   0.0   0.0   0.0   0.0   0.0   0.0   0.0   0.0  ...   \n",
      "43   5.5   309.185814   0.0   0.0   0.0   0.0   0.0   0.0   0.0   0.0  ...   \n",
      "44   1.0   247.983179   0.0   0.0   0.0   0.0   0.0   0.0   0.0   0.0  ...   \n",
      "45  11.0   442.887874   0.0   0.0   0.0   0.0   0.0   0.0   0.0   0.0  ...   \n",
      "46   7.0   481.233592   0.0   0.0   0.0   0.0   0.0   0.0   0.0   0.0  ...   \n",
      "47   1.0   459.068909   0.0   0.0   0.0   0.0   0.0   0.0   0.0   0.0  ...   \n",
      "48  11.0   495.634929   0.0   0.0   0.0   0.0   0.0   0.0   0.0   0.0  ...   \n",
      "49  10.0   446.268168   0.0   0.0   0.0   0.0   0.0   0.0   0.0   0.0  ...   \n",
      "\n",
      "    7414  7415  7416  7417  7418  7419  7420  7421  7422  7423  \n",
      "0    0.0   0.0   0.0   0.0   0.0   0.0   0.0   0.0   0.0   0.0  \n",
      "1    0.0   0.0   0.0   0.0   0.0   0.0   0.0   0.0   0.0   0.0  \n",
      "2    0.0   0.0   0.0   0.0   0.0   0.0   0.0   0.0   0.0   0.0  \n",
      "3    0.0   0.0   0.0   0.0   0.0   0.0   0.0   0.0   0.0   0.0  \n",
      "4    0.0   0.0   0.0   0.0   0.0   0.0   0.0   0.0   0.0   0.0  \n",
      "5    0.0   0.0   0.0   0.0   0.0   0.0   0.0   0.0   0.0   0.0  \n",
      "6    0.0   0.0   0.0   0.0   0.0   0.0   0.0   0.0   0.0   0.0  \n",
      "7    0.0   0.0   0.0   0.0   0.0   0.0   0.0   0.0   0.0   0.0  \n",
      "8    0.0   0.0   0.0   0.0   0.0   0.0   0.0   0.0   0.0   0.0  \n",
      "9    0.0   0.0   0.0   0.0   0.0   0.0   0.0   0.0   0.0   0.0  \n",
      "10   0.0   0.0   0.0   0.0   0.0   0.0   0.0   0.0   0.0   0.0  \n",
      "11   0.0   0.0   0.0   0.0   0.0   0.0   0.0   0.0   0.0   0.0  \n",
      "12   0.0   0.0   0.0   0.0   0.0   0.0   0.0   0.0   0.0   0.0  \n",
      "13   0.0   0.0   0.0   0.0   0.0   0.0   0.0   0.0   0.0   0.0  \n",
      "14   0.0   0.0   0.0   0.0   0.0   0.0   0.0   0.0   0.0   0.0  \n",
      "15   0.0   0.0   0.0   0.0   0.0   0.0   0.0   0.0   0.0   0.0  \n",
      "16   0.0   0.0   0.0   0.0   0.0   0.0   0.0   0.0   0.0   0.0  \n",
      "17   0.0   0.0   0.0   0.0   0.0   0.0   0.0   0.0   0.0   0.0  \n",
      "18   0.0   0.0   0.0   0.0   0.0   0.0   0.0   0.0   0.0   0.0  \n",
      "19   0.0   0.0   0.0   0.0   0.0   0.0   0.0   0.0   0.0   0.0  \n",
      "20   0.0   0.0   0.0   0.0   0.0   0.0   0.0   0.0   0.0   0.0  \n",
      "21   0.0   0.0   0.0   0.0   0.0   0.0   0.0   0.0   0.0   0.0  \n",
      "22   0.0   0.0   0.0   0.0   0.0   0.0   0.0   0.0   0.0   0.0  \n",
      "23   0.0   0.0   0.0   0.0   0.0   0.0   0.0   0.0   0.0   0.0  \n",
      "24   0.0   0.0   0.0   0.0   0.0   0.0   0.0   0.0   0.0   0.0  \n",
      "25   0.0   0.0   0.0   0.0   0.0   0.0   0.0   0.0   0.0   0.0  \n",
      "26   0.0   0.0   0.0   0.0   0.0   0.0   0.0   0.0   0.0   0.0  \n",
      "27   0.0   0.0   0.0   0.0   0.0   0.0   0.0   0.0   0.0   0.0  \n",
      "28   0.0   0.0   0.0   0.0   0.0   0.0   0.0   0.0   0.0   0.0  \n",
      "29   0.0   0.0   0.0   0.0   0.0   0.0   0.0   0.0   0.0   0.0  \n",
      "30   0.0   0.0   0.0   0.0   0.0   0.0   0.0   0.0   0.0   0.0  \n",
      "31   0.0   0.0   0.0   0.0   0.0   0.0   0.0   0.0   0.0   0.0  \n",
      "32   0.0   0.0   0.0   0.0   0.0   0.0   0.0   0.0   0.0   0.0  \n",
      "33   0.0   0.0   0.0   0.0   0.0   0.0   0.0   0.0   0.0   0.0  \n",
      "34   0.0   0.0   0.0   0.0   0.0   0.0   0.0   0.0   0.0   0.0  \n",
      "35   0.0   0.0   0.0   0.0   0.0   0.0   0.0   0.0   0.0   0.0  \n",
      "36   0.0   0.0   0.0   0.0   0.0   0.0   0.0   0.0   0.0   0.0  \n",
      "37   0.0   0.0   0.0   0.0   0.0   0.0   0.0   0.0   0.0   0.0  \n",
      "38   0.0   0.0   0.0   0.0   0.0   0.0   0.0   0.0   0.0   0.0  \n",
      "39   0.0   0.0   0.0   0.0   0.0   0.0   0.0   0.0   0.0   0.0  \n",
      "40   0.0   0.0   0.0   0.0   0.0   0.0   0.0   0.0   0.0   0.0  \n",
      "41   0.0   0.0   0.0   0.0   0.0   0.0   0.0   0.0   0.0   0.0  \n",
      "42   0.0   0.0   0.0   0.0   0.0   0.0   0.0   0.0   0.0   0.0  \n",
      "43   0.0   0.0   0.0   0.0   0.0   0.0   0.0   0.0   0.0   0.0  \n",
      "44   0.0   0.0   0.0   0.0   0.0   0.0   0.0   0.0   0.0   0.0  \n",
      "45   0.0   0.0   0.0   0.0   0.0   0.0   0.0   0.0   0.0   0.0  \n",
      "46   0.0   0.0   0.0   0.0   0.0   0.0   0.0   0.0   0.0   0.0  \n",
      "47   0.0   0.0   0.0   0.0   0.0   0.0   0.0   0.0   0.0   0.0  \n",
      "48   0.0   0.0   0.0   0.0   0.0   0.0   0.0   0.0   0.0   0.0  \n",
      "49   0.0   0.0   0.0   0.0   0.0   0.0   0.0   0.0   0.0   0.0  \n",
      "\n",
      "[50 rows x 6768 columns]\n"
     ]
    }
   ],
   "source": [
    "val_data = val_data[train_data.columns]\n",
    "print(val_data)"
   ]
  },
  {
   "cell_type": "code",
   "execution_count": 14,
   "id": "f22f6ead",
   "metadata": {},
   "outputs": [],
   "source": [
    "for col in train_data.columns:\n",
    "    if train_data[col].mean() == 0:\n",
    "        train_data.drop([col], inplace=True, axis=1)\n",
    "        val_data.drop([col], inplace=True, axis=1)\n",
    "train_data_normalized = train_data.copy()\n",
    "val_data_normalized = val_data.copy()\n",
    "\n",
    "scaler = StandardScaler()\n",
    "train_data_normalized = scaler.fit_transform(train_data)\n",
    "val_data_normalized = scaler.transform(val_data)"
   ]
  },
  {
   "cell_type": "code",
   "execution_count": 15,
   "id": "1f870640",
   "metadata": {},
   "outputs": [
    {
     "name": "stdout",
     "output_type": "stream",
     "text": [
      "[[-0.63741527 -0.04075277 -0.16250948 ...  0.29172998  0.45007779\n",
      "   1.4342721 ]\n",
      " [-1.132778   -0.49878257 -0.16250948 ...  0.29172998  0.77664018\n",
      "   1.49706191]\n",
      " [ 1.22019495  0.14709514  0.01424508 ...  0.29172998 -0.61727105\n",
      "  -0.08348602]\n",
      " ...\n",
      " [-0.51357459 -0.05319462 -0.16250948 ...  0.29172998  0.62823629\n",
      "   1.97756737]\n",
      " [-0.51357459 -0.06870946 -0.16250948 ...  0.29172998  0.35232318\n",
      "   0.73100168]\n",
      " [ 0.2294695  -0.0183305  -0.16250948 ...  0.29172998  0.10757806\n",
      "   0.01404056]]\n",
      "[[-1.42052547e-01  2.13578383e-01 -1.62509480e-01 ...  2.91729983e-01\n",
      "   6.38291745e-01  4.90190077e-01]\n",
      " [-1.13277800e+00 -4.98782571e-01 -1.62509480e-01 ...  2.91729983e-01\n",
      "   1.34419478e+00 -6.23556391e-01]\n",
      " [-8.85096637e-01 -2.81877964e-01 -1.62509480e-01 ...  2.91729983e-01\n",
      "   1.07475185e+00  1.15275424e+00]\n",
      " ...\n",
      " [-8.85096637e-01 -2.39149197e-04 -1.62509480e-01 ...  2.91729983e-01\n",
      "   2.64234759e-01 -6.23556391e-01]\n",
      " [ 1.59171700e+00  3.94711167e-02  2.01890377e-01 ...  2.91729983e-01\n",
      "  -8.34099368e-01 -2.17674609e-01]\n",
      " [ 1.34403563e+00 -1.41406031e-02 -8.84042263e-03 ...  2.91729983e-01\n",
      "  -3.08669945e-01  1.97493696e-01]]\n"
     ]
    }
   ],
   "source": [
    "print(train_data_normalized)\n",
    "print(val_data_normalized)"
   ]
  },
  {
   "cell_type": "code",
   "execution_count": 16,
   "id": "ddb68da7",
   "metadata": {},
   "outputs": [
    {
     "name": "stdout",
     "output_type": "stream",
     "text": [
      "23\n",
      "23\n"
     ]
    }
   ],
   "source": [
    "print(len(train_data_normalized[0]))\n",
    "print(len(val_data_normalized[0]))"
   ]
  },
  {
   "cell_type": "code",
   "execution_count": 17,
   "id": "bd36528d",
   "metadata": {},
   "outputs": [
    {
     "name": "stdout",
     "output_type": "stream",
     "text": [
      "[(False, 2544.) (False,  503.) (False, 1405.) (False, 2926.)\n",
      " (False,  979.) ( True, 2251.) ( True,  156.) (False,  160.)\n",
      " (False, 2007.) (False, 3325.) (False, 1434.) (False, 2007.)\n",
      " (False, 3060.) (False, 1277.) (False, 1518.) (False, 3968.)\n",
      " (False,  394.) (False,  610.) (False,  623.) (False, 2357.)\n",
      " (False,  432.) (False, 1610.) ( True,   96.) ( True,  225.)\n",
      " (False, 1583.) ( True,   72.) (False, 2160.) (False,  699.)\n",
      " (False,   28.) (False, 2296.) (False, 1057.) (False,  421.)\n",
      " (False,  756.) (False,  763.) (False,  517.) (False, 1041.)\n",
      " (False, 1782.) (False,  836.) (False,  996.) ( True,  440.)\n",
      " (False,  673.) (False,  427.) (False,  804.) (False,  803.)\n",
      " (False, 1671.) (False,  917.) ( True,  500.) (False,  775.)\n",
      " (False, 2274.) (False,   73.) ( True,  410.) (False, 1463.)\n",
      " (False, 1176.) (False, 1547.) (False, 2268.) (False, 1392.)\n",
      " (False, 2620.) (False,  393.) (False,  699.) (False,   65.)\n",
      " (False, 1164.) (False,   70.) (False, 1840.) (False,  906.)\n",
      " (False, 2087.) (False, 2714.) (False,  496.) (False, 1041.)\n",
      " ( True,  377.) (False,  464.) (False,  267.) (False,  666.)\n",
      " (False, 3545.) (False, 4280.) (False, 3120.) (False, 2647.)\n",
      " (False, 1722.) (False, 1581.) (False, 1368.) (False, 1563.)\n",
      " (False, 1762.) (False, 3039.) (False, 3180.) (False, 2624.)\n",
      " (False,  316.) ( True,  422.) (False, 2100.) ( True,  246.)\n",
      " (False, 2883.) (False, 1774.) (False, 2088.) ( True,  795.)\n",
      " ( True,  575.) (False, 2945.) (False, 2641.) (False, 1449.)\n",
      " ( True, 1006.) (False,  208.) ( True,  473.) (False,  117.)\n",
      " (False,  385.) (False,  844.)]\n"
     ]
    }
   ],
   "source": [
    "a = []\n",
    "for index in range(0, len(final_censor)):\n",
    "    a.append([final_censor[index], final_days[index]])\n",
    "train_labels = pd.DataFrame(a)\n",
    "\n",
    "train_labels.columns = [\"Status\", \"Survival (in days)\"]\n",
    "train_labels[\"Status\"] = train_labels[\"Status\"].astype('bool')\n",
    "\n",
    "y_train = []\n",
    "for index, row in train_labels.iterrows():\n",
    "    y_train.append((row[\"Status\"], row[\"Survival (in days)\"]))\n",
    "dt = dtype=[('Status', '?'), ('Survival_in_days', '<f8')]\n",
    "y_train = np.array([tuple(row) for row in y_train], dtype=dt)\n",
    "print(y_train)"
   ]
  },
  {
   "cell_type": "code",
   "execution_count": 18,
   "id": "c5a89d4c",
   "metadata": {},
   "outputs": [
    {
     "name": "stdout",
     "output_type": "stream",
     "text": [
      "[(False,  978.) (False,  575.) (False,  344.) ( True, 1121.)\n",
      " ( True,  551.) (False,  701.) ( True, 1183.) ( True,   62.)\n",
      " ( True,  947.) (False, 1022.) (False, 1064.) ( True,  626.)\n",
      " (False,  455.) (False, 1100.) (False, 1616.) ( True, 1525.)\n",
      " (False,  619.) (False, 1016.) ( True,  332.) (False, 1128.)\n",
      " (False,  461.) (False,  791.) (False,  329.) (False,  315.)\n",
      " (False,  367.) (False, 1526.) (False, 1620.) (False,  322.)\n",
      " (False, 1050.) (False,  183.) (False,  305.) (False,  777.)\n",
      " (False,  665.) (False,  840.) (False, 1233.) (False, 1186.)\n",
      " ( True,  495.) (False,  740.) (False,  584.) (False, 1150.)\n",
      " (False,  161.) (False, 1093.) (False,    7.) (False, 1149.)\n",
      " (False,  216.) (False,  758.) ( True,  309.) (False,  782.)\n",
      " (False,  227.) ( True,  154.)]\n"
     ]
    }
   ],
   "source": [
    "a = []\n",
    "for index in range(0, len(final_test_censor)):\n",
    "    a.append([final_test_censor[index], final_test_days[index]])\n",
    "val_labels = pd.DataFrame(a)\n",
    "\n",
    "val_labels.columns = [\"Status\", \"Survival (in days)\"]\n",
    "val_labels[\"Status\"] = val_labels[\"Status\"].astype('bool')\n",
    "\n",
    "y_val = []\n",
    "for index, row in val_labels.iterrows():\n",
    "    y_val.append((row[\"Status\"], row[\"Survival (in days)\"]))\n",
    "dt = dtype=[('Status', '?'), ('Survival_in_days', '<f8')]\n",
    "y_val = np.array([tuple(row) for row in y_val], dtype=dt)\n",
    "print(y_val)"
   ]
  },
  {
   "cell_type": "code",
   "execution_count": 19,
   "id": "dbc35971",
   "metadata": {},
   "outputs": [
    {
     "data": {
      "text/plain": [
       "CoxnetSurvivalAnalysis(alpha_min_ratio=0.9, l1_ratio=0.9)"
      ]
     },
     "execution_count": 19,
     "metadata": {},
     "output_type": "execute_result"
    }
   ],
   "source": [
    "estimator = CoxnetSurvivalAnalysis(l1_ratio=0.9, alpha_min_ratio=0.9)\n",
    "#estimator = CoxPHSurvivalAnalysis(n_iter=10000)\n",
    "estimator.fit(train_data_normalized, y_train)"
   ]
  },
  {
   "cell_type": "code",
   "execution_count": 20,
   "id": "5ea499fa",
   "metadata": {},
   "outputs": [
    {
     "data": {
      "text/plain": [
       "0.5507372072853426"
      ]
     },
     "execution_count": 20,
     "metadata": {},
     "output_type": "execute_result"
    }
   ],
   "source": [
    "estimator.score(train_data_normalized, y_train)"
   ]
  },
  {
   "cell_type": "code",
   "execution_count": 21,
   "id": "92981c15",
   "metadata": {},
   "outputs": [
    {
     "data": {
      "text/plain": [
       "0.6166666666666667"
      ]
     },
     "execution_count": 21,
     "metadata": {},
     "output_type": "execute_result"
    }
   ],
   "source": [
    "estimator.score(val_data_normalized, y_val)"
   ]
  },
  {
   "cell_type": "code",
   "execution_count": 22,
   "id": "51270770",
   "metadata": {},
   "outputs": [
    {
     "name": "stdout",
     "output_type": "stream",
     "text": [
      "1\n",
      "\n",
      "Prognostic features count = 1\n"
     ]
    }
   ],
   "source": [
    "# find prognostic features from model trained above\n",
    "count = 0\n",
    "for index1 in range(0, len(estimator.coef_)):\n",
    "    flag = -1\n",
    "    for index2 in range(0, len(estimator.coef_[index1])):\n",
    "        if estimator.coef_[index1][index2] > 0 or estimator.coef_[index1][index2] < 0:\n",
    "            flag = 1\n",
    "            print(index1)\n",
    "            break\n",
    "    if flag == 1:\n",
    "        count += 1\n",
    "print()\n",
    "print(\"Prognostic features count = \" + str(count))"
   ]
  },
  {
   "cell_type": "code",
   "execution_count": 23,
   "id": "72d3c278",
   "metadata": {},
   "outputs": [
    {
     "name": "stdout",
     "output_type": "stream",
     "text": [
      "102\n",
      "50\n",
      "15\n",
      "87\n",
      "11\n",
      "39\n"
     ]
    }
   ],
   "source": [
    "pred_surv_train = estimator.predict(train_data_normalized)\n",
    "pred_surv_val = estimator.predict(val_data_normalized)\n",
    "print(len(pred_surv_train))\n",
    "print(len(pred_surv_val))\n",
    "\n",
    "x_train_survival = []\n",
    "x_train_survival_censored = []\n",
    "x_val_survival = []\n",
    "x_val_survival_censored = []\n",
    "y_train_survival = []\n",
    "y_val_survival = []\n",
    "y_train_survival_censored = []\n",
    "y_val_survival_censored = []\n",
    "for index in range(0, len(y_train)):\n",
    "    if y_train[index][0] == 1:\n",
    "        x_train_survival.append(pred_surv_train[index])\n",
    "        y_train_survival.append(y_train[index][1])\n",
    "    else:\n",
    "        x_train_survival_censored.append(pred_surv_train[index])\n",
    "        y_train_survival_censored.append(y_train[index][1])\n",
    "for index in range(0, len(y_val)):\n",
    "    if y_val[index][0] == 1:\n",
    "        x_val_survival.append(pred_surv_val[index])\n",
    "        y_val_survival.append(y_val[index][1])\n",
    "    else:\n",
    "        x_val_survival_censored.append(pred_surv_val[index])\n",
    "        y_val_survival_censored.append(y_val[index][1])\n",
    "print(len(y_train_survival))\n",
    "print(len(y_train_survival_censored))\n",
    "print(len(y_val_survival))\n",
    "print(len(y_val_survival_censored))"
   ]
  },
  {
   "cell_type": "code",
   "execution_count": 24,
   "id": "e040de95",
   "metadata": {},
   "outputs": [
    {
     "name": "stdout",
     "output_type": "stream",
     "text": [
      "-0.041876515686115945\n"
     ]
    }
   ],
   "source": [
    "median_risk_score = np.median(x_train_survival)-0.03\n",
    "print(median_risk_score)"
   ]
  },
  {
   "cell_type": "code",
   "execution_count": 25,
   "id": "791d50e1",
   "metadata": {},
   "outputs": [
    {
     "name": "stdout",
     "output_type": "stream",
     "text": [
      "71\n",
      "71\n",
      "31\n",
      "31\n"
     ]
    }
   ],
   "source": [
    "high_train_labels_status = []\n",
    "high_train_labels_days = []\n",
    "low_train_labels_status = []\n",
    "low_train_labels_days = []\n",
    "group_train = []\n",
    "for index, row in train_labels.iterrows():\n",
    "    if pred_surv_train[index-1] > median_risk_score:\n",
    "        group_train.append(0)\n",
    "        high_train_labels_status.append(row[\"Status\"])\n",
    "        high_train_labels_days.append(row[\"Survival (in days)\"])\n",
    "    else:\n",
    "        group_train.append(1)\n",
    "        low_train_labels_status.append(row[\"Status\"])\n",
    "        low_train_labels_days.append(row[\"Survival (in days)\"])\n",
    "print(len(high_train_labels_status))\n",
    "print(len(high_train_labels_days))\n",
    "print(len(low_train_labels_status))\n",
    "print(len(low_train_labels_days))"
   ]
  },
  {
   "cell_type": "code",
   "execution_count": 26,
   "id": "90da5ccc",
   "metadata": {},
   "outputs": [
    {
     "name": "stdout",
     "output_type": "stream",
     "text": [
      "0;0;1;0;1;0;1;1;0;0;0;0;0;0;0;0;0;0;0;0;0;0;1;1;0;1;0;1;0;0;0;0;1;0;0;1;0;1;1;0;0;1;0;0;0;0;0;1;0;1;0;0;0;0;0;0;0;1;0;0;0;1;1;1;0;1;0;1;1;0;0;0;0;0;1;0;1;1;1;1;0;0;0;0;1;0;0;0;0;0;0;1;1;0;0;0;0;0;0;1;0;0\n"
     ]
    }
   ],
   "source": [
    "print(*group_train, sep=';')"
   ]
  },
  {
   "cell_type": "code",
   "execution_count": 27,
   "id": "9fb27d12",
   "metadata": {},
   "outputs": [
    {
     "name": "stdout",
     "output_type": "stream",
     "text": [
      "36\n",
      "36\n",
      "14\n",
      "14\n"
     ]
    }
   ],
   "source": [
    "high_val_labels_status = []\n",
    "high_val_labels_days = []\n",
    "low_val_labels_status = []\n",
    "low_val_labels_days = []\n",
    "group_val = []\n",
    "for index, row in val_labels.iterrows():\n",
    "    if pred_surv_val[index-1] > median_risk_score:\n",
    "        group_val.append(0)\n",
    "        high_val_labels_status.append(row[\"Status\"])\n",
    "        high_val_labels_days.append(row[\"Survival (in days)\"])\n",
    "    else:\n",
    "        group_val.append(1)\n",
    "        low_val_labels_status.append(row[\"Status\"])\n",
    "        low_val_labels_days.append(row[\"Survival (in days)\"])\n",
    "print(len(high_val_labels_status))\n",
    "print(len(high_val_labels_days))\n",
    "print(len(low_val_labels_status))\n",
    "print(len(low_val_labels_days))"
   ]
  },
  {
   "cell_type": "code",
   "execution_count": 28,
   "id": "26c2a544",
   "metadata": {},
   "outputs": [
    {
     "name": "stdout",
     "output_type": "stream",
     "text": [
      "0;0;1;1;1;0;1;0;0;0;0;0;0;0;0;1;0;0;1;1;1;0;1;0;0;0;0;0;0;0;0;1;0;1;0;0;0;0;1;1;0;1;0;0;0;0;0;0;0;0\n"
     ]
    }
   ],
   "source": [
    "print(*group_val, sep=';')"
   ]
  },
  {
   "cell_type": "code",
   "execution_count": null,
   "id": "cf07c1f6",
   "metadata": {},
   "outputs": [],
   "source": []
  },
  {
   "cell_type": "code",
   "execution_count": null,
   "id": "4643d38c",
   "metadata": {},
   "outputs": [],
   "source": []
  },
  {
   "cell_type": "code",
   "execution_count": null,
   "id": "187de4bb",
   "metadata": {},
   "outputs": [],
   "source": [
    "# train dataset - survival days\n",
    "print(\"[2544.0; 503.0; 1405.0; 2926.0; 979.0; 2251.0; 156.0; 160.0; 2007.0; 3325.0; 1434.0; 2007.0; 3060.0; 1277.0; 1518.0; 3968.0; 394.0; 610.0; 623.0; 2357.0; 432.0; 1610.0; 96.0; 225.0; 1583.0; 72.0; 2160.0; 699.0; 28.0; 2296.0; 1057.0; 421.0; 756.0; 763.0; 517.0; 1041.0; 1782.0; 836.0; 996.0; 440.0; 673.0; 427.0; 804.0; 803.0; 1671.0; 917.0; 500.0; 775.0; 2274.0; 73.0; 410.0; 1463.0; 1176.0; 1547.0; 2268.0; 1392.0; 2620.0; 393.0; 699.0; 65.0; 1164.0; 70.0; 1840.0; 906.0; 2087.0; 2714.0; 496.0; 1041.0; 377.0; 464.0; 267.0; 666.0; 3545.0; 4280.0; 3120.0; 2647.0; 1722.0; 1581.0; 1368.0; 1563.0; 1762.0; 3039.0; 3180.0; 2624.0; 316.0; 422.0; 2100.0; 246.0; 2883.0; 1774.0; 2088.0; 795.0; 575.0; 2945.0; 2641.0; 1449.0; 1006.0; 208.0; 473.0; 117.0; 385.0; 844.0]\")"
   ]
  },
  {
   "cell_type": "code",
   "execution_count": null,
   "id": "0f7c7b16",
   "metadata": {},
   "outputs": [],
   "source": [
    "# train dataset - event\n",
    "print(\"[0; 0; 0; 0; 0; 1; 1; 0; 0; 0; 0; 0; 0; 0; 0; 0; 0; 0; 0; 0; 0; 0; 1; 1; 0; 1; 0; 0; 0; 0; 0; 0; 0; 0; 0; 0; 0; 0; 0; 1; 0; 0; 0; 0; 0; 0; 1; 0; 0; 0; 1; 0; 0; 0; 0; 0; 0; 0; 0; 0; 0; 0; 0; 0; 0; 0; 0; 0; 1; 0; 0; 0; 0; 0; 0; 0; 0; 0; 0; 0; 0; 0; 0; 0; 0; 1; 0; 1; 0; 0; 0; 1; 1; 0; 0; 0; 1; 0; 1; 0; 0; 0]\")"
   ]
  },
  {
   "cell_type": "code",
   "execution_count": null,
   "id": "12374194",
   "metadata": {},
   "outputs": [],
   "source": []
  },
  {
   "cell_type": "code",
   "execution_count": null,
   "id": "cd81d90d",
   "metadata": {},
   "outputs": [],
   "source": [
    "# test dataset - survival days\n",
    "print(\"[978.0; 575.0; 344.0; 1121.0; 551.0; 701.0; 1183.0; 62.0; 947.0; 1022.0; 1064.0; 626.0; 455.0; 1100.0; 1616.0; 1525.0; 619.0; 1016.0; 332.0; 1128.0; 461.0; 791.0; 329.0; 315.0; 367.0; 1526.0; 1620.0; 322.0; 1050.0; 183.0; 305.0; 777.0; 665.0; 840.0; 1233.0; 1186.0; 495.0; 740.0; 584.0; 1150.0; 161.0; 1093.0; 7.0; 1149.0; 216.0; 758.0; 309.0; 782.0; 227.0; 154.0]\")"
   ]
  },
  {
   "cell_type": "code",
   "execution_count": null,
   "id": "32753751",
   "metadata": {},
   "outputs": [],
   "source": [
    "# test dataset - event\n",
    "print(\"[0; 0; 0; 1; 1; 0; 1; 0; 0; 0; 0; 0; 0; 0; 0; 1; 0; 0; 0; 0; 0; 0; 0; 0; 0; 0; 0; 0; 0; 0; 0; 0; 0; 0; 0; 0; 0; 0; 0; 0; 0; 0; 0; 0; 0; 0; 0; 0; 0; 1]\")"
   ]
  },
  {
   "cell_type": "code",
   "execution_count": null,
   "id": "947f120d",
   "metadata": {},
   "outputs": [],
   "source": []
  }
 ],
 "metadata": {
  "kernelspec": {
   "display_name": "Python 3",
   "language": "python",
   "name": "python3"
  },
  "language_info": {
   "codemirror_mode": {
    "name": "ipython",
    "version": 3
   },
   "file_extension": ".py",
   "mimetype": "text/x-python",
   "name": "python",
   "nbconvert_exporter": "python",
   "pygments_lexer": "ipython3",
   "version": "3.8.8"
  }
 },
 "nbformat": 4,
 "nbformat_minor": 5
}
